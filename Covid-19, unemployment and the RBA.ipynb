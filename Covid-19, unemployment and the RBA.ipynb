{
 "cells": [
  {
   "cell_type": "markdown",
   "metadata": {},
   "source": [
    "<h1>Project: Analyze the impact of Covid-19 on the Autralian economy and the unemployment rate </h1>\n",
    "\n",
    "COMP2200 (2020 S2) - Rachel Ullmann, Ivy Ly (44367767), Raffi Tchamkertenian(46464565), Danny Bui (46042784)"
   ]
  },
  {
   "cell_type": "markdown",
   "metadata": {},
   "source": [
    "# Project Introduction"
   ]
  },
  {
   "cell_type": "markdown",
   "metadata": {},
   "source": [
    "The outbreak of Covid-19 in early January 2020 has proven to be only not a national health crisis but also a severe economic crisis with the June quarter seeing the Australian economy plunge into its first recession in over 30 years. The recession, driven by the mandatory lockdown of businesses and households to limit the spread of Covid-19, will require significant intervention by the government and reserve bank of Australian (RBA) to overcome. Broadly, there are two measures which can be used stimulate an economy. The first is fiscal policy which entails government expenditure in capacities such as direct cash transfer payments, tax cuts, infratructure projects, guaranteed jobs etc. The second, which will be the focus of this project, is monetary policy. This entails the RBA adjusting the monthly cash rate (national interest rate) to incentivise investment and spending."
   ]
  },
  {
   "cell_type": "markdown",
   "metadata": {},
   "source": [
    "# Project aims"
   ]
  },
  {
   "cell_type": "markdown",
   "metadata": {},
   "source": [
    "The aim of our project is to first analyze the impact of Covid-19 on the Australian economy. Here, we will explore how the various states and territories, industries and genders have been affected. Second, we seek to model the Australian unemployment rate and Australian recessions. More specifically, the former will be our baseline linear regression model which will be used to predict the unemployment rate. And, the latter will be used to classify which calendar quarter will see the Australian economy fall into a recession. Finally, our project will seek to answer how the RBA ought to respond in order to stimulate the economy and drive down the unemployment rate."
   ]
  },
  {
   "cell_type": "code",
   "execution_count": 1,
   "metadata": {},
   "outputs": [],
   "source": [
    "import pandas as pd\n",
    "import numpy as np\n",
    "from scipy import stats\n",
    "import seaborn as sns\n",
    "import datetime\n",
    "import matplotlib.dates as mdates\n",
    "from matplotlib import pyplot as plt\n",
    "from datetime import timedelta\n",
    "from scipy.stats import pearsonr\n",
    "from sklearn.preprocessing import LabelEncoder\n",
    "from sklearn.model_selection import train_test_split\n",
    "from sklearn.neighbors import KNeighborsClassifier\n",
    "from sklearn.metrics import confusion_matrix, accuracy_score\n",
    "from scipy.cluster.hierarchy import linkage, dendrogram, cut_tree\n",
    "from scipy.spatial.distance import pdist\n",
    "from sklearn.linear_model import LinearRegression\n",
    "from sklearn.metrics import r2_score, mean_squared_error, mean_absolute_error\n",
    "sns.set()\n",
    "plt.style.use('seaborn')\n",
    "%matplotlib inline"
   ]
  },
  {
   "cell_type": "markdown",
   "metadata": {},
   "source": [
    "# Datasets"
   ]
  },
  {
   "cell_type": "code",
   "execution_count": 2,
   "metadata": {},
   "outputs": [],
   "source": [
    "# Covid-19 exploration datasets\n",
    "covid_df = pd.read_excel('Data sets/Monthly Covid-19 cases.xlsx')\n",
    "arrivals_df = pd.read_excel('Data sets/Monthly International arrivals by state of clearance.xlsx')\n",
    "cash_rate_df = pd.read_excel('Data sets/Monthly RBA cash rate.xlsx')\n",
    "unemployment_df = pd.read_excel('Data sets/Monthly Unemployment rate.xlsx')\n",
    "job_vacancies_df = pd.read_excel('Data sets/Monthly job vacancies.xlsx')\n",
    "state_unemployment_df = pd.read_excel('Data sets/Monthly Unemployment rate (state).xlsx')\n",
    "\n",
    "# Unemployment rate model datasets\n",
    "investment_df = pd.read_excel ('Data sets/Quarterly capital investment.xlsx',index_col='Date', parse_dates=True)\n",
    "GDP_df = pd.read_excel('Data sets/Quarterly GDP.xlsx',index_col='Date', parse_dates=True)\n",
    "inflation_df = pd.read_excel ('Data sets/Quarterly Inflation.xlsx',index_col='Date', parse_dates=True)\n",
    "hoursworked_df = pd.read_excel ('Data sets/Quarterly hour worked danny.xls',index_col='Date', parse_dates=True)\n",
    "balancepayments_df = pd.read_excel ('Data sets/Monthly balance of goods and services.xlsx',index_col='Date', parse_dates=True)"
   ]
  },
  {
   "cell_type": "markdown",
   "metadata": {},
   "source": [
    "## Data Set Descriptions\n",
    "\n",
    "**The data sources used in this project were (all in xls format):**\n",
    "- covid_df - Number of Monthly Covid-19 Cases at National and state level from Jan 2020 to Aug 2020 which is available at National Notifiable Diseases Surveillance System - Department of Health (http://www9.health.gov.au/cda/source/rpt_1.cfm).\n",
    "- arrivals_df - The number of monthly international arrivals to Australia by country of residence from Jul 1975 to Jul 2020, retrieved from ABS - Visitor arrivals and resident returns by country(https://www.abs.gov.au/statistics/industry/tourism-and-transport/overseas-travel-statistics-provisional/aug-2020#data-download).\n",
    "- cash_rate_df - Monthly RBA Cash Rate from Jan 1990 to August 2020 from the Reserve Bank of Australia. (https://www.rba.gov.au/statistics/cash-rate/)\n",
    "- unemployment_df - Monthly Unemployment Data in Australia (https://www.abs.gov.au/statistics/economy/key-indicators)\n",
    "- job_vacancies_df - Job Vacancies dataset contained the number of monthly job vacancies in Australia by state from Nov 1993 to May 2020 , retrieved from Vacancy Report from Australian Government - Labour Market Information Portal (https://lmip.gov.au/default.aspx?LMIP/GainInsights/VacancyReport).\n",
    "- investment_df - Quarterly Capital Investment in Australia (https://www.abs.gov.au/statistics/economy/business-indicators).\n",
    "- GDP_df - Quarterly Gross Domestic Product (GDP) in Australia (https://www.rba.gov.au/statistics/tables/).\n",
    "- inflation_df - Quarterly Inflation in Australia (https://www.rba.gov.au/statistics/tables/).\n",
    "- hoursworked_df - Quarterly Hours worked in Australia (https://www.abs.gov.au/statistics/labour/earnings-and-work-hours).\n",
    "- balancepayments_df - Monthly Balance of Goods and Services (BOGS) which records the value of exported goods and services and the value of imported goods and services (https://www.abs.gov.au/statistics/economy/international-trade/international-trade-goods-and-services-australia/sep-2020).\n",
    "- state_unemployment_df - Unemployment rate by state (https://lmip.gov.au/default.aspx?LMIP/LFR_SAFOUR/LFR_UnemploymentRate)."
   ]
  },
  {
   "cell_type": "markdown",
   "metadata": {},
   "source": [
    "# Data cleaning"
   ]
  },
  {
   "cell_type": "markdown",
   "metadata": {},
   "source": [
    "#### Formatting and setting date index and dropping N/A rows"
   ]
  },
  {
   "cell_type": "code",
   "execution_count": 3,
   "metadata": {},
   "outputs": [],
   "source": [
    "# Function to set date index to month-year format\n",
    "def setDateIndexMonthYear(df):\n",
    "    df['Date'] = pd.to_datetime(df['Date'])\n",
    "    df['Date'] = df['Date'].dt.strftime(\"%b-%Y\")\n",
    "    df.set_index('Date', inplace= True )\n",
    "    df.dropna(inplace = True)\n",
    "    return df\n",
    "\n",
    "# Month-year format set to index for covid dataset\n",
    "covidDatasets = [covid_df, arrivals_df, cash_rate_df, unemployment_df, job_vacancies_df, state_unemployment_df]\n",
    "for df in covidDatasets:\n",
    "    setDateIndexMonthYear(df)"
   ]
  },
  {
   "cell_type": "code",
   "execution_count": 4,
   "metadata": {},
   "outputs": [],
   "source": [
    "# Function to set date index to quarter-year format\n",
    "def SetDateIndexQuarter(df):\n",
    "    df.index = pd.to_datetime(df.index)\n",
    "    df['Date quarter'] = pd.PeriodIndex(df.index, freq='Q')\n",
    "    df.set_index('Date quarter', inplace = True)\n",
    "    df.dropna(inplace = True)\n",
    "    return df\n",
    "# Quarter-year format set to index for unemployment rate model dataset\n",
    "unemploymentModelDatasets = [investment_df, GDP_df, inflation_df, hoursworked_df, balancepayments_df]\n",
    "for df in unemploymentModelDatasets:\n",
    "    SetDateIndexQuarter(df)"
   ]
  },
  {
   "cell_type": "markdown",
   "metadata": {},
   "source": [
    "#### Change column name"
   ]
  },
  {
   "cell_type": "code",
   "execution_count": 5,
   "metadata": {},
   "outputs": [],
   "source": [
    "hoursworked_df.columns = ['Hours Worked']"
   ]
  },
  {
   "cell_type": "markdown",
   "metadata": {},
   "source": [
    "#### Create new colum"
   ]
  },
  {
   "cell_type": "code",
   "execution_count": 6,
   "metadata": {},
   "outputs": [],
   "source": [
    "# Create new column for investment df with total investment \n",
    "investment_df[\"total investment\"] = investment_df.sum(axis=1)"
   ]
  },
  {
   "cell_type": "markdown",
   "metadata": {},
   "source": [
    "#### Remove columns"
   ]
  },
  {
   "cell_type": "code",
   "execution_count": 7,
   "metadata": {},
   "outputs": [],
   "source": [
    "investment_df.drop(investment_df.columns[0:3], inplace = True, axis =1)\n",
    "unemployment_df.drop(unemployment_df.columns[0:54], inplace = True, axis =1)\n",
    "unemployment_df.drop(unemployment_df.columns[27:], inplace = True, axis =1)\n",
    "GDP_df.drop(GDP_df.columns[0], inplace = True, axis =1)\n",
    "GDP_df.drop(GDP_df.columns[1:], inplace = True, axis =1)"
   ]
  },
  {
   "cell_type": "markdown",
   "metadata": {},
   "source": [
    "# Data exploration"
   ]
  },
  {
   "cell_type": "markdown",
   "metadata": {},
   "source": [
    "### States most affect by Covid"
   ]
  },
  {
   "cell_type": "code",
   "execution_count": 8,
   "metadata": {
    "scrolled": true
   },
   "outputs": [],
   "source": [
    "# Create new covid df\n",
    "heat_covid_df = covid_df.copy()\n",
    "heat_covid_df.drop(columns='AUS', inplace=True)\n",
    "heat_covid_df = heat_covid_df[['ACT','NT','TAS','SA','WA','QLD','NSW','VIC']]\n",
    "heat_covid_df = heat_covid_df.reindex(index=heat_covid_df.index[::-1])"
   ]
  },
  {
   "cell_type": "code",
   "execution_count": 9,
   "metadata": {},
   "outputs": [
    {
     "data": {
      "image/png": "[encoded data removed]",
      "text/plain": [
       "<Figure size 1440x720 with 2 Axes>"
      ]
     },
     "metadata": {
      "needs_background": "light"
     },
     "output_type": "display_data"
    }
   ],
   "source": [
    "# Plot heatmap \n",
    "fig, ax = plt.subplots(figsize=(20, 10))\n",
    "ax = sns.heatmap(heat_covid_df, cmap=\"YlOrRd\", linewidths=.5, annot=True, fmt='g')\n",
    "plt.title('Covid cases by state', fontsize=17,weight='bold')\n",
    "ax.set_ylabel('') \n",
    "plt.show()"
   ]
  },
  {
   "cell_type": "code",
   "execution_count": 10,
   "metadata": {},
   "outputs": [
    {
     "data": {
      "text/html": [
       "<div>\n",
       "<style scoped>\n",
       "    .dataframe tbody tr th:only-of-type {\n",
       "        vertical-align: middle;\n",
       "    }\n",
       "\n",
       "    .dataframe tbody tr th {\n",
       "        vertical-align: top;\n",
       "    }\n",
       "\n",
       "    .dataframe thead th {\n",
       "        text-align: right;\n",
       "    }\n",
       "</style>\n",
       "<table border=\"1\" class=\"dataframe\">\n",
       "  <thead>\n",
       "    <tr style=\"text-align: right;\">\n",
       "      <th></th>\n",
       "      <th>ACT</th>\n",
       "      <th>NT</th>\n",
       "      <th>TAS</th>\n",
       "      <th>SA</th>\n",
       "      <th>WA</th>\n",
       "      <th>QLD</th>\n",
       "      <th>NSW</th>\n",
       "      <th>VIC</th>\n",
       "    </tr>\n",
       "    <tr>\n",
       "      <th>Date</th>\n",
       "      <th></th>\n",
       "      <th></th>\n",
       "      <th></th>\n",
       "      <th></th>\n",
       "      <th></th>\n",
       "      <th></th>\n",
       "      <th></th>\n",
       "      <th></th>\n",
       "    </tr>\n",
       "  </thead>\n",
       "  <tbody>\n",
       "    <tr>\n",
       "      <th>Aug-2020</th>\n",
       "      <td>0</td>\n",
       "      <td>0</td>\n",
       "      <td>1</td>\n",
       "      <td>9</td>\n",
       "      <td>11</td>\n",
       "      <td>40</td>\n",
       "      <td>276</td>\n",
       "      <td>6949</td>\n",
       "    </tr>\n",
       "    <tr>\n",
       "      <th>Jul-2020</th>\n",
       "      <td>5</td>\n",
       "      <td>3</td>\n",
       "      <td>1</td>\n",
       "      <td>11</td>\n",
       "      <td>42</td>\n",
       "      <td>16</td>\n",
       "      <td>399</td>\n",
       "      <td>9740</td>\n",
       "    </tr>\n",
       "    <tr>\n",
       "      <th>Jun-2020</th>\n",
       "      <td>0</td>\n",
       "      <td>1</td>\n",
       "      <td>0</td>\n",
       "      <td>3</td>\n",
       "      <td>15</td>\n",
       "      <td>9</td>\n",
       "      <td>131</td>\n",
       "      <td>936</td>\n",
       "    </tr>\n",
       "    <tr>\n",
       "      <th>May-2020</th>\n",
       "      <td>1</td>\n",
       "      <td>0</td>\n",
       "      <td>1</td>\n",
       "      <td>1</td>\n",
       "      <td>33</td>\n",
       "      <td>9</td>\n",
       "      <td>65</td>\n",
       "      <td>256</td>\n",
       "    </tr>\n",
       "    <tr>\n",
       "      <th>Apr-2020</th>\n",
       "      <td>14</td>\n",
       "      <td>4</td>\n",
       "      <td>142</td>\n",
       "      <td>23</td>\n",
       "      <td>103</td>\n",
       "      <td>65</td>\n",
       "      <td>440</td>\n",
       "      <td>191</td>\n",
       "    </tr>\n",
       "    <tr>\n",
       "      <th>Mar-2020</th>\n",
       "      <td>93</td>\n",
       "      <td>25</td>\n",
       "      <td>84</td>\n",
       "      <td>410</td>\n",
       "      <td>472</td>\n",
       "      <td>976</td>\n",
       "      <td>2756</td>\n",
       "      <td>1210</td>\n",
       "    </tr>\n",
       "    <tr>\n",
       "      <th>Feb-2020</th>\n",
       "      <td>0</td>\n",
       "      <td>0</td>\n",
       "      <td>2</td>\n",
       "      <td>4</td>\n",
       "      <td>8</td>\n",
       "      <td>18</td>\n",
       "      <td>49</td>\n",
       "      <td>15</td>\n",
       "    </tr>\n",
       "    <tr>\n",
       "      <th>Jan-2020</th>\n",
       "      <td>0</td>\n",
       "      <td>0</td>\n",
       "      <td>0</td>\n",
       "      <td>2</td>\n",
       "      <td>1</td>\n",
       "      <td>2</td>\n",
       "      <td>4</td>\n",
       "      <td>4</td>\n",
       "    </tr>\n",
       "  </tbody>\n",
       "</table>\n",
       "</div>"
      ],
      "text/plain": [
       "          ACT  NT  TAS   SA   WA  QLD   NSW   VIC\n",
       "Date                                             \n",
       "Aug-2020    0   0    1    9   11   40   276  6949\n",
       "Jul-2020    5   3    1   11   42   16   399  9740\n",
       "Jun-2020    0   1    0    3   15    9   131   936\n",
       "May-2020    1   0    1    1   33    9    65   256\n",
       "Apr-2020   14   4  142   23  103   65   440   191\n",
       "Mar-2020   93  25   84  410  472  976  2756  1210\n",
       "Feb-2020    0   0    2    4    8   18    49    15\n",
       "Jan-2020    0   0    0    2    1    2     4     4"
      ]
     },
     "execution_count": 10,
     "metadata": {},
     "output_type": "execute_result"
    }
   ],
   "source": [
    "heat_covid_df"
   ]
  },
  {
   "cell_type": "markdown",
   "metadata": {},
   "source": [
    "The heatmap shows the number of monthly confirmed cases across the states and territories since the outbreak of Covid-19 in January 2020.\n",
    "\n",
    "With the exception of Victoria the total number of  confirmed Covid-19 cases across the states and territories peak in May 2020 before gradually declining. Victoria is the clearly the outlier and the most affected state with the total and peak number of confirmed cases far exceeding the rest of the country."
   ]
  },
  {
   "cell_type": "markdown",
   "metadata": {},
   "source": [
    "### Impact of international border restrictions"
   ]
  },
  {
   "cell_type": "markdown",
   "metadata": {},
   "source": [
    "#### Australian international arrivals"
   ]
  },
  {
   "cell_type": "code",
   "execution_count": 11,
   "metadata": {},
   "outputs": [
    {
     "data": {
      "image/png": "[encoded data removed]",
      "text/plain": [
       "<Figure size 1440x720 with 1 Axes>"
      ]
     },
     "metadata": {
      "needs_background": "light"
     },
     "output_type": "display_data"
    }
   ],
   "source": [
    "fig, ax = plt.subplots(figsize=(20, 10))\n",
    "ax.set_ylabel('Arrivals')\n",
    "ax.set_xlabel('Date')\n",
    "plt.title('Australia International Arrivals', fontsize=15,weight='bold')\n",
    "arrivals_df.Australia.plot(linewidth=4, color='b')\n",
    "plt.show()"
   ]
  },
  {
   "cell_type": "markdown",
   "metadata": {},
   "source": [
    "This line graph shows the total international arrivals into Australia from September 2016 until August 2020. We can observe a slight positive seasonality trend with peaks during the December months with a sudden drop to near 0 in January 2020."
   ]
  },
  {
   "cell_type": "markdown",
   "metadata": {},
   "source": [
    "#### International arrivals by state and national Covid-19 cases"
   ]
  },
  {
   "cell_type": "code",
   "execution_count": 12,
   "metadata": {},
   "outputs": [],
   "source": [
    "#merge arrivals and covid df into new\n",
    "arrivals_covid= pd.merge(arrivals_df, covid_df, how = 'outer' , on='Date' )\n",
    "arrivals_covid.index = pd.to_datetime(arrivals_covid.index)\n",
    "arrivals_covid.drop('Australia', axis=1, inplace=True)"
   ]
  },
  {
   "cell_type": "code",
   "execution_count": 13,
   "metadata": {},
   "outputs": [
    {
     "data": {
      "text/html": [
       "<div>\n",
       "<style scoped>\n",
       "    .dataframe tbody tr th:only-of-type {\n",
       "        vertical-align: middle;\n",
       "    }\n",
       "\n",
       "    .dataframe tbody tr th {\n",
       "        vertical-align: top;\n",
       "    }\n",
       "\n",
       "    .dataframe thead th {\n",
       "        text-align: right;\n",
       "    }\n",
       "</style>\n",
       "<table border=\"1\" class=\"dataframe\">\n",
       "  <thead>\n",
       "    <tr style=\"text-align: right;\">\n",
       "      <th></th>\n",
       "      <th>New South Wales</th>\n",
       "      <th>Victoria</th>\n",
       "      <th>Queensland</th>\n",
       "      <th>South Australia</th>\n",
       "      <th>Western Australia</th>\n",
       "      <th>Tasmania</th>\n",
       "      <th>Northern Territory</th>\n",
       "      <th>ACT_x</th>\n",
       "      <th>ACT_y</th>\n",
       "      <th>NSW</th>\n",
       "      <th>NT</th>\n",
       "      <th>QLD</th>\n",
       "      <th>SA</th>\n",
       "      <th>TAS</th>\n",
       "      <th>VIC</th>\n",
       "      <th>WA</th>\n",
       "      <th>AUS</th>\n",
       "    </tr>\n",
       "    <tr>\n",
       "      <th>Date</th>\n",
       "      <th></th>\n",
       "      <th></th>\n",
       "      <th></th>\n",
       "      <th></th>\n",
       "      <th></th>\n",
       "      <th></th>\n",
       "      <th></th>\n",
       "      <th></th>\n",
       "      <th></th>\n",
       "      <th></th>\n",
       "      <th></th>\n",
       "      <th></th>\n",
       "      <th></th>\n",
       "      <th></th>\n",
       "      <th></th>\n",
       "      <th></th>\n",
       "      <th></th>\n",
       "    </tr>\n",
       "  </thead>\n",
       "  <tbody>\n",
       "    <tr>\n",
       "      <th>2016-09-01</th>\n",
       "      <td>611700</td>\n",
       "      <td>405310</td>\n",
       "      <td>320720</td>\n",
       "      <td>42480</td>\n",
       "      <td>191100</td>\n",
       "      <td>0</td>\n",
       "      <td>17370</td>\n",
       "      <td>1480</td>\n",
       "      <td>NaN</td>\n",
       "      <td>NaN</td>\n",
       "      <td>NaN</td>\n",
       "      <td>NaN</td>\n",
       "      <td>NaN</td>\n",
       "      <td>NaN</td>\n",
       "      <td>NaN</td>\n",
       "      <td>NaN</td>\n",
       "      <td>NaN</td>\n",
       "    </tr>\n",
       "    <tr>\n",
       "      <th>2016-10-01</th>\n",
       "      <td>706420</td>\n",
       "      <td>441150</td>\n",
       "      <td>344250</td>\n",
       "      <td>47330</td>\n",
       "      <td>216040</td>\n",
       "      <td>10</td>\n",
       "      <td>21970</td>\n",
       "      <td>3910</td>\n",
       "      <td>NaN</td>\n",
       "      <td>NaN</td>\n",
       "      <td>NaN</td>\n",
       "      <td>NaN</td>\n",
       "      <td>NaN</td>\n",
       "      <td>NaN</td>\n",
       "      <td>NaN</td>\n",
       "      <td>NaN</td>\n",
       "      <td>NaN</td>\n",
       "    </tr>\n",
       "    <tr>\n",
       "      <th>2016-11-01</th>\n",
       "      <td>609170</td>\n",
       "      <td>388780</td>\n",
       "      <td>283230</td>\n",
       "      <td>35850</td>\n",
       "      <td>175590</td>\n",
       "      <td>80</td>\n",
       "      <td>18250</td>\n",
       "      <td>3660</td>\n",
       "      <td>NaN</td>\n",
       "      <td>NaN</td>\n",
       "      <td>NaN</td>\n",
       "      <td>NaN</td>\n",
       "      <td>NaN</td>\n",
       "      <td>NaN</td>\n",
       "      <td>NaN</td>\n",
       "      <td>NaN</td>\n",
       "      <td>NaN</td>\n",
       "    </tr>\n",
       "    <tr>\n",
       "      <th>2016-12-01</th>\n",
       "      <td>690540</td>\n",
       "      <td>446980</td>\n",
       "      <td>326470</td>\n",
       "      <td>42640</td>\n",
       "      <td>195490</td>\n",
       "      <td>4420</td>\n",
       "      <td>11650</td>\n",
       "      <td>2720</td>\n",
       "      <td>NaN</td>\n",
       "      <td>NaN</td>\n",
       "      <td>NaN</td>\n",
       "      <td>NaN</td>\n",
       "      <td>NaN</td>\n",
       "      <td>NaN</td>\n",
       "      <td>NaN</td>\n",
       "      <td>NaN</td>\n",
       "      <td>NaN</td>\n",
       "    </tr>\n",
       "    <tr>\n",
       "      <th>2017-01-01</th>\n",
       "      <td>844600</td>\n",
       "      <td>528230</td>\n",
       "      <td>369900</td>\n",
       "      <td>52310</td>\n",
       "      <td>245060</td>\n",
       "      <td>1310</td>\n",
       "      <td>22240</td>\n",
       "      <td>4690</td>\n",
       "      <td>NaN</td>\n",
       "      <td>NaN</td>\n",
       "      <td>NaN</td>\n",
       "      <td>NaN</td>\n",
       "      <td>NaN</td>\n",
       "      <td>NaN</td>\n",
       "      <td>NaN</td>\n",
       "      <td>NaN</td>\n",
       "      <td>NaN</td>\n",
       "    </tr>\n",
       "    <tr>\n",
       "      <th>2017-02-01</th>\n",
       "      <td>670180</td>\n",
       "      <td>427090</td>\n",
       "      <td>287080</td>\n",
       "      <td>38560</td>\n",
       "      <td>189240</td>\n",
       "      <td>7540</td>\n",
       "      <td>13280</td>\n",
       "      <td>3350</td>\n",
       "      <td>NaN</td>\n",
       "      <td>NaN</td>\n",
       "      <td>NaN</td>\n",
       "      <td>NaN</td>\n",
       "      <td>NaN</td>\n",
       "      <td>NaN</td>\n",
       "      <td>NaN</td>\n",
       "      <td>NaN</td>\n",
       "      <td>NaN</td>\n",
       "    </tr>\n",
       "    <tr>\n",
       "      <th>2017-03-01</th>\n",
       "      <td>616060</td>\n",
       "      <td>394760</td>\n",
       "      <td>291430</td>\n",
       "      <td>35160</td>\n",
       "      <td>168140</td>\n",
       "      <td>4750</td>\n",
       "      <td>13390</td>\n",
       "      <td>3690</td>\n",
       "      <td>NaN</td>\n",
       "      <td>NaN</td>\n",
       "      <td>NaN</td>\n",
       "      <td>NaN</td>\n",
       "      <td>NaN</td>\n",
       "      <td>NaN</td>\n",
       "      <td>NaN</td>\n",
       "      <td>NaN</td>\n",
       "      <td>NaN</td>\n",
       "    </tr>\n",
       "    <tr>\n",
       "      <th>2017-04-01</th>\n",
       "      <td>668710</td>\n",
       "      <td>420180</td>\n",
       "      <td>315970</td>\n",
       "      <td>35210</td>\n",
       "      <td>189970</td>\n",
       "      <td>1900</td>\n",
       "      <td>14500</td>\n",
       "      <td>4010</td>\n",
       "      <td>NaN</td>\n",
       "      <td>NaN</td>\n",
       "      <td>NaN</td>\n",
       "      <td>NaN</td>\n",
       "      <td>NaN</td>\n",
       "      <td>NaN</td>\n",
       "      <td>NaN</td>\n",
       "      <td>NaN</td>\n",
       "      <td>NaN</td>\n",
       "    </tr>\n",
       "    <tr>\n",
       "      <th>2017-05-01</th>\n",
       "      <td>567850</td>\n",
       "      <td>355720</td>\n",
       "      <td>270600</td>\n",
       "      <td>33850</td>\n",
       "      <td>157610</td>\n",
       "      <td>0</td>\n",
       "      <td>14730</td>\n",
       "      <td>3000</td>\n",
       "      <td>NaN</td>\n",
       "      <td>NaN</td>\n",
       "      <td>NaN</td>\n",
       "      <td>NaN</td>\n",
       "      <td>NaN</td>\n",
       "      <td>NaN</td>\n",
       "      <td>NaN</td>\n",
       "      <td>NaN</td>\n",
       "      <td>NaN</td>\n",
       "    </tr>\n",
       "    <tr>\n",
       "      <th>2017-06-01</th>\n",
       "      <td>559620</td>\n",
       "      <td>368350</td>\n",
       "      <td>283520</td>\n",
       "      <td>34740</td>\n",
       "      <td>161550</td>\n",
       "      <td>0</td>\n",
       "      <td>13570</td>\n",
       "      <td>3190</td>\n",
       "      <td>NaN</td>\n",
       "      <td>NaN</td>\n",
       "      <td>NaN</td>\n",
       "      <td>NaN</td>\n",
       "      <td>NaN</td>\n",
       "      <td>NaN</td>\n",
       "      <td>NaN</td>\n",
       "      <td>NaN</td>\n",
       "      <td>NaN</td>\n",
       "    </tr>\n",
       "    <tr>\n",
       "      <th>2017-07-01</th>\n",
       "      <td>759770</td>\n",
       "      <td>501400</td>\n",
       "      <td>366290</td>\n",
       "      <td>47590</td>\n",
       "      <td>213250</td>\n",
       "      <td>0</td>\n",
       "      <td>19720</td>\n",
       "      <td>4040</td>\n",
       "      <td>NaN</td>\n",
       "      <td>NaN</td>\n",
       "      <td>NaN</td>\n",
       "      <td>NaN</td>\n",
       "      <td>NaN</td>\n",
       "      <td>NaN</td>\n",
       "      <td>NaN</td>\n",
       "      <td>NaN</td>\n",
       "      <td>NaN</td>\n",
       "    </tr>\n",
       "    <tr>\n",
       "      <th>2017-08-01</th>\n",
       "      <td>642050</td>\n",
       "      <td>424280</td>\n",
       "      <td>317110</td>\n",
       "      <td>43040</td>\n",
       "      <td>179650</td>\n",
       "      <td>0</td>\n",
       "      <td>15080</td>\n",
       "      <td>3440</td>\n",
       "      <td>NaN</td>\n",
       "      <td>NaN</td>\n",
       "      <td>NaN</td>\n",
       "      <td>NaN</td>\n",
       "      <td>NaN</td>\n",
       "      <td>NaN</td>\n",
       "      <td>NaN</td>\n",
       "      <td>NaN</td>\n",
       "      <td>NaN</td>\n",
       "    </tr>\n",
       "    <tr>\n",
       "      <th>2017-09-01</th>\n",
       "      <td>659990</td>\n",
       "      <td>429730</td>\n",
       "      <td>330460</td>\n",
       "      <td>45120</td>\n",
       "      <td>185580</td>\n",
       "      <td>0</td>\n",
       "      <td>15570</td>\n",
       "      <td>3720</td>\n",
       "      <td>NaN</td>\n",
       "      <td>NaN</td>\n",
       "      <td>NaN</td>\n",
       "      <td>NaN</td>\n",
       "      <td>NaN</td>\n",
       "      <td>NaN</td>\n",
       "      <td>NaN</td>\n",
       "      <td>NaN</td>\n",
       "      <td>NaN</td>\n",
       "    </tr>\n",
       "    <tr>\n",
       "      <th>2017-10-01</th>\n",
       "      <td>749490</td>\n",
       "      <td>493830</td>\n",
       "      <td>352240</td>\n",
       "      <td>47800</td>\n",
       "      <td>219010</td>\n",
       "      <td>60</td>\n",
       "      <td>13980</td>\n",
       "      <td>4520</td>\n",
       "      <td>NaN</td>\n",
       "      <td>NaN</td>\n",
       "      <td>NaN</td>\n",
       "      <td>NaN</td>\n",
       "      <td>NaN</td>\n",
       "      <td>NaN</td>\n",
       "      <td>NaN</td>\n",
       "      <td>NaN</td>\n",
       "      <td>NaN</td>\n",
       "    </tr>\n",
       "    <tr>\n",
       "      <th>2017-11-01</th>\n",
       "      <td>646770</td>\n",
       "      <td>424460</td>\n",
       "      <td>298360</td>\n",
       "      <td>38040</td>\n",
       "      <td>175330</td>\n",
       "      <td>1960</td>\n",
       "      <td>13380</td>\n",
       "      <td>4050</td>\n",
       "      <td>NaN</td>\n",
       "      <td>NaN</td>\n",
       "      <td>NaN</td>\n",
       "      <td>NaN</td>\n",
       "      <td>NaN</td>\n",
       "      <td>NaN</td>\n",
       "      <td>NaN</td>\n",
       "      <td>NaN</td>\n",
       "      <td>NaN</td>\n",
       "    </tr>\n",
       "    <tr>\n",
       "      <th>2017-12-01</th>\n",
       "      <td>718160</td>\n",
       "      <td>482200</td>\n",
       "      <td>339180</td>\n",
       "      <td>43250</td>\n",
       "      <td>188270</td>\n",
       "      <td>2820</td>\n",
       "      <td>12780</td>\n",
       "      <td>3810</td>\n",
       "      <td>NaN</td>\n",
       "      <td>NaN</td>\n",
       "      <td>NaN</td>\n",
       "      <td>NaN</td>\n",
       "      <td>NaN</td>\n",
       "      <td>NaN</td>\n",
       "      <td>NaN</td>\n",
       "      <td>NaN</td>\n",
       "      <td>NaN</td>\n",
       "    </tr>\n",
       "    <tr>\n",
       "      <th>2018-01-01</th>\n",
       "      <td>863050</td>\n",
       "      <td>556050</td>\n",
       "      <td>385950</td>\n",
       "      <td>59170</td>\n",
       "      <td>238110</td>\n",
       "      <td>4180</td>\n",
       "      <td>17670</td>\n",
       "      <td>5520</td>\n",
       "      <td>NaN</td>\n",
       "      <td>NaN</td>\n",
       "      <td>NaN</td>\n",
       "      <td>NaN</td>\n",
       "      <td>NaN</td>\n",
       "      <td>NaN</td>\n",
       "      <td>NaN</td>\n",
       "      <td>NaN</td>\n",
       "      <td>NaN</td>\n",
       "    </tr>\n",
       "    <tr>\n",
       "      <th>2018-02-01</th>\n",
       "      <td>712280</td>\n",
       "      <td>472760</td>\n",
       "      <td>305220</td>\n",
       "      <td>41800</td>\n",
       "      <td>178580</td>\n",
       "      <td>4950</td>\n",
       "      <td>11180</td>\n",
       "      <td>3900</td>\n",
       "      <td>NaN</td>\n",
       "      <td>NaN</td>\n",
       "      <td>NaN</td>\n",
       "      <td>NaN</td>\n",
       "      <td>NaN</td>\n",
       "      <td>NaN</td>\n",
       "      <td>NaN</td>\n",
       "      <td>NaN</td>\n",
       "      <td>NaN</td>\n",
       "    </tr>\n",
       "    <tr>\n",
       "      <th>2018-03-01</th>\n",
       "      <td>689210</td>\n",
       "      <td>449300</td>\n",
       "      <td>317890</td>\n",
       "      <td>38530</td>\n",
       "      <td>175160</td>\n",
       "      <td>200</td>\n",
       "      <td>9960</td>\n",
       "      <td>4240</td>\n",
       "      <td>NaN</td>\n",
       "      <td>NaN</td>\n",
       "      <td>NaN</td>\n",
       "      <td>NaN</td>\n",
       "      <td>NaN</td>\n",
       "      <td>NaN</td>\n",
       "      <td>NaN</td>\n",
       "      <td>NaN</td>\n",
       "      <td>NaN</td>\n",
       "    </tr>\n",
       "    <tr>\n",
       "      <th>2018-04-01</th>\n",
       "      <td>668550</td>\n",
       "      <td>454770</td>\n",
       "      <td>317150</td>\n",
       "      <td>36650</td>\n",
       "      <td>174350</td>\n",
       "      <td>10</td>\n",
       "      <td>13090</td>\n",
       "      <td>5180</td>\n",
       "      <td>NaN</td>\n",
       "      <td>NaN</td>\n",
       "      <td>NaN</td>\n",
       "      <td>NaN</td>\n",
       "      <td>NaN</td>\n",
       "      <td>NaN</td>\n",
       "      <td>NaN</td>\n",
       "      <td>NaN</td>\n",
       "      <td>NaN</td>\n",
       "    </tr>\n",
       "    <tr>\n",
       "      <th>2018-05-01</th>\n",
       "      <td>602770</td>\n",
       "      <td>387800</td>\n",
       "      <td>281320</td>\n",
       "      <td>35660</td>\n",
       "      <td>160380</td>\n",
       "      <td>0</td>\n",
       "      <td>10310</td>\n",
       "      <td>3100</td>\n",
       "      <td>NaN</td>\n",
       "      <td>NaN</td>\n",
       "      <td>NaN</td>\n",
       "      <td>NaN</td>\n",
       "      <td>NaN</td>\n",
       "      <td>NaN</td>\n",
       "      <td>NaN</td>\n",
       "      <td>NaN</td>\n",
       "      <td>NaN</td>\n",
       "    </tr>\n",
       "    <tr>\n",
       "      <th>2018-06-01</th>\n",
       "      <td>588330</td>\n",
       "      <td>413260</td>\n",
       "      <td>293630</td>\n",
       "      <td>36300</td>\n",
       "      <td>165280</td>\n",
       "      <td>0</td>\n",
       "      <td>14190</td>\n",
       "      <td>3600</td>\n",
       "      <td>NaN</td>\n",
       "      <td>NaN</td>\n",
       "      <td>NaN</td>\n",
       "      <td>NaN</td>\n",
       "      <td>NaN</td>\n",
       "      <td>NaN</td>\n",
       "      <td>NaN</td>\n",
       "      <td>NaN</td>\n",
       "      <td>NaN</td>\n",
       "    </tr>\n",
       "    <tr>\n",
       "      <th>2018-07-01</th>\n",
       "      <td>798090</td>\n",
       "      <td>542820</td>\n",
       "      <td>382170</td>\n",
       "      <td>49340</td>\n",
       "      <td>218180</td>\n",
       "      <td>0</td>\n",
       "      <td>14670</td>\n",
       "      <td>4510</td>\n",
       "      <td>NaN</td>\n",
       "      <td>NaN</td>\n",
       "      <td>NaN</td>\n",
       "      <td>NaN</td>\n",
       "      <td>NaN</td>\n",
       "      <td>NaN</td>\n",
       "      <td>NaN</td>\n",
       "      <td>NaN</td>\n",
       "      <td>NaN</td>\n",
       "    </tr>\n",
       "    <tr>\n",
       "      <th>2018-08-01</th>\n",
       "      <td>669370</td>\n",
       "      <td>466750</td>\n",
       "      <td>341540</td>\n",
       "      <td>43810</td>\n",
       "      <td>182480</td>\n",
       "      <td>0</td>\n",
       "      <td>12520</td>\n",
       "      <td>3720</td>\n",
       "      <td>NaN</td>\n",
       "      <td>NaN</td>\n",
       "      <td>NaN</td>\n",
       "      <td>NaN</td>\n",
       "      <td>NaN</td>\n",
       "      <td>NaN</td>\n",
       "      <td>NaN</td>\n",
       "      <td>NaN</td>\n",
       "      <td>NaN</td>\n",
       "    </tr>\n",
       "    <tr>\n",
       "      <th>2018-09-01</th>\n",
       "      <td>669000</td>\n",
       "      <td>474160</td>\n",
       "      <td>327990</td>\n",
       "      <td>46530</td>\n",
       "      <td>186840</td>\n",
       "      <td>0</td>\n",
       "      <td>15170</td>\n",
       "      <td>3940</td>\n",
       "      <td>NaN</td>\n",
       "      <td>NaN</td>\n",
       "      <td>NaN</td>\n",
       "      <td>NaN</td>\n",
       "      <td>NaN</td>\n",
       "      <td>NaN</td>\n",
       "      <td>NaN</td>\n",
       "      <td>NaN</td>\n",
       "      <td>NaN</td>\n",
       "    </tr>\n",
       "    <tr>\n",
       "      <th>2018-10-01</th>\n",
       "      <td>794740</td>\n",
       "      <td>530480</td>\n",
       "      <td>364510</td>\n",
       "      <td>50200</td>\n",
       "      <td>211300</td>\n",
       "      <td>10</td>\n",
       "      <td>12600</td>\n",
       "      <td>4090</td>\n",
       "      <td>NaN</td>\n",
       "      <td>NaN</td>\n",
       "      <td>NaN</td>\n",
       "      <td>NaN</td>\n",
       "      <td>NaN</td>\n",
       "      <td>NaN</td>\n",
       "      <td>NaN</td>\n",
       "      <td>NaN</td>\n",
       "      <td>NaN</td>\n",
       "    </tr>\n",
       "    <tr>\n",
       "      <th>2018-11-01</th>\n",
       "      <td>672870</td>\n",
       "      <td>466880</td>\n",
       "      <td>293330</td>\n",
       "      <td>41910</td>\n",
       "      <td>172370</td>\n",
       "      <td>5400</td>\n",
       "      <td>13710</td>\n",
       "      <td>3210</td>\n",
       "      <td>NaN</td>\n",
       "      <td>NaN</td>\n",
       "      <td>NaN</td>\n",
       "      <td>NaN</td>\n",
       "      <td>NaN</td>\n",
       "      <td>NaN</td>\n",
       "      <td>NaN</td>\n",
       "      <td>NaN</td>\n",
       "      <td>NaN</td>\n",
       "    </tr>\n",
       "    <tr>\n",
       "      <th>2018-12-01</th>\n",
       "      <td>752090</td>\n",
       "      <td>500060</td>\n",
       "      <td>344080</td>\n",
       "      <td>45310</td>\n",
       "      <td>192920</td>\n",
       "      <td>4260</td>\n",
       "      <td>13770</td>\n",
       "      <td>2590</td>\n",
       "      <td>NaN</td>\n",
       "      <td>NaN</td>\n",
       "      <td>NaN</td>\n",
       "      <td>NaN</td>\n",
       "      <td>NaN</td>\n",
       "      <td>NaN</td>\n",
       "      <td>NaN</td>\n",
       "      <td>NaN</td>\n",
       "      <td>NaN</td>\n",
       "    </tr>\n",
       "    <tr>\n",
       "      <th>2019-01-01</th>\n",
       "      <td>898340</td>\n",
       "      <td>599560</td>\n",
       "      <td>403650</td>\n",
       "      <td>58880</td>\n",
       "      <td>234840</td>\n",
       "      <td>3290</td>\n",
       "      <td>15450</td>\n",
       "      <td>3550</td>\n",
       "      <td>NaN</td>\n",
       "      <td>NaN</td>\n",
       "      <td>NaN</td>\n",
       "      <td>NaN</td>\n",
       "      <td>NaN</td>\n",
       "      <td>NaN</td>\n",
       "      <td>NaN</td>\n",
       "      <td>NaN</td>\n",
       "      <td>NaN</td>\n",
       "    </tr>\n",
       "    <tr>\n",
       "      <th>2019-02-01</th>\n",
       "      <td>724390</td>\n",
       "      <td>512350</td>\n",
       "      <td>309450</td>\n",
       "      <td>45670</td>\n",
       "      <td>182960</td>\n",
       "      <td>3260</td>\n",
       "      <td>12140</td>\n",
       "      <td>3030</td>\n",
       "      <td>NaN</td>\n",
       "      <td>NaN</td>\n",
       "      <td>NaN</td>\n",
       "      <td>NaN</td>\n",
       "      <td>NaN</td>\n",
       "      <td>NaN</td>\n",
       "      <td>NaN</td>\n",
       "      <td>NaN</td>\n",
       "      <td>NaN</td>\n",
       "    </tr>\n",
       "    <tr>\n",
       "      <th>2019-03-01</th>\n",
       "      <td>663460</td>\n",
       "      <td>470920</td>\n",
       "      <td>304410</td>\n",
       "      <td>39840</td>\n",
       "      <td>167440</td>\n",
       "      <td>5160</td>\n",
       "      <td>9960</td>\n",
       "      <td>2740</td>\n",
       "      <td>NaN</td>\n",
       "      <td>NaN</td>\n",
       "      <td>NaN</td>\n",
       "      <td>NaN</td>\n",
       "      <td>NaN</td>\n",
       "      <td>NaN</td>\n",
       "      <td>NaN</td>\n",
       "      <td>NaN</td>\n",
       "      <td>NaN</td>\n",
       "    </tr>\n",
       "    <tr>\n",
       "      <th>2019-04-01</th>\n",
       "      <td>678560</td>\n",
       "      <td>474700</td>\n",
       "      <td>321840</td>\n",
       "      <td>41610</td>\n",
       "      <td>177370</td>\n",
       "      <td>3440</td>\n",
       "      <td>13970</td>\n",
       "      <td>2930</td>\n",
       "      <td>NaN</td>\n",
       "      <td>NaN</td>\n",
       "      <td>NaN</td>\n",
       "      <td>NaN</td>\n",
       "      <td>NaN</td>\n",
       "      <td>NaN</td>\n",
       "      <td>NaN</td>\n",
       "      <td>NaN</td>\n",
       "      <td>NaN</td>\n",
       "    </tr>\n",
       "    <tr>\n",
       "      <th>2019-05-01</th>\n",
       "      <td>642050</td>\n",
       "      <td>436940</td>\n",
       "      <td>292120</td>\n",
       "      <td>39090</td>\n",
       "      <td>163220</td>\n",
       "      <td>0</td>\n",
       "      <td>13330</td>\n",
       "      <td>3130</td>\n",
       "      <td>NaN</td>\n",
       "      <td>NaN</td>\n",
       "      <td>NaN</td>\n",
       "      <td>NaN</td>\n",
       "      <td>NaN</td>\n",
       "      <td>NaN</td>\n",
       "      <td>NaN</td>\n",
       "      <td>NaN</td>\n",
       "      <td>NaN</td>\n",
       "    </tr>\n",
       "    <tr>\n",
       "      <th>2019-06-01</th>\n",
       "      <td>609700</td>\n",
       "      <td>431390</td>\n",
       "      <td>299070</td>\n",
       "      <td>41290</td>\n",
       "      <td>164790</td>\n",
       "      <td>0</td>\n",
       "      <td>13130</td>\n",
       "      <td>3620</td>\n",
       "      <td>NaN</td>\n",
       "      <td>NaN</td>\n",
       "      <td>NaN</td>\n",
       "      <td>NaN</td>\n",
       "      <td>NaN</td>\n",
       "      <td>NaN</td>\n",
       "      <td>NaN</td>\n",
       "      <td>NaN</td>\n",
       "      <td>NaN</td>\n",
       "    </tr>\n",
       "    <tr>\n",
       "      <th>2019-07-01</th>\n",
       "      <td>772040</td>\n",
       "      <td>557180</td>\n",
       "      <td>393650</td>\n",
       "      <td>56280</td>\n",
       "      <td>211560</td>\n",
       "      <td>0</td>\n",
       "      <td>17990</td>\n",
       "      <td>4310</td>\n",
       "      <td>NaN</td>\n",
       "      <td>NaN</td>\n",
       "      <td>NaN</td>\n",
       "      <td>NaN</td>\n",
       "      <td>NaN</td>\n",
       "      <td>NaN</td>\n",
       "      <td>NaN</td>\n",
       "      <td>NaN</td>\n",
       "      <td>NaN</td>\n",
       "    </tr>\n",
       "    <tr>\n",
       "      <th>2019-08-01</th>\n",
       "      <td>688480</td>\n",
       "      <td>491690</td>\n",
       "      <td>345460</td>\n",
       "      <td>51170</td>\n",
       "      <td>188580</td>\n",
       "      <td>0</td>\n",
       "      <td>16160</td>\n",
       "      <td>3410</td>\n",
       "      <td>NaN</td>\n",
       "      <td>NaN</td>\n",
       "      <td>NaN</td>\n",
       "      <td>NaN</td>\n",
       "      <td>NaN</td>\n",
       "      <td>NaN</td>\n",
       "      <td>NaN</td>\n",
       "      <td>NaN</td>\n",
       "      <td>NaN</td>\n",
       "    </tr>\n",
       "    <tr>\n",
       "      <th>2019-09-01</th>\n",
       "      <td>675210</td>\n",
       "      <td>480220</td>\n",
       "      <td>328740</td>\n",
       "      <td>54000</td>\n",
       "      <td>189490</td>\n",
       "      <td>0</td>\n",
       "      <td>17700</td>\n",
       "      <td>3670</td>\n",
       "      <td>NaN</td>\n",
       "      <td>NaN</td>\n",
       "      <td>NaN</td>\n",
       "      <td>NaN</td>\n",
       "      <td>NaN</td>\n",
       "      <td>NaN</td>\n",
       "      <td>NaN</td>\n",
       "      <td>NaN</td>\n",
       "      <td>NaN</td>\n",
       "    </tr>\n",
       "    <tr>\n",
       "      <th>2019-10-01</th>\n",
       "      <td>786030</td>\n",
       "      <td>531130</td>\n",
       "      <td>372300</td>\n",
       "      <td>56670</td>\n",
       "      <td>214380</td>\n",
       "      <td>0</td>\n",
       "      <td>18280</td>\n",
       "      <td>3940</td>\n",
       "      <td>NaN</td>\n",
       "      <td>NaN</td>\n",
       "      <td>NaN</td>\n",
       "      <td>NaN</td>\n",
       "      <td>NaN</td>\n",
       "      <td>NaN</td>\n",
       "      <td>NaN</td>\n",
       "      <td>NaN</td>\n",
       "      <td>NaN</td>\n",
       "    </tr>\n",
       "    <tr>\n",
       "      <th>2019-11-01</th>\n",
       "      <td>675600</td>\n",
       "      <td>480850</td>\n",
       "      <td>313600</td>\n",
       "      <td>44560</td>\n",
       "      <td>188580</td>\n",
       "      <td>2910</td>\n",
       "      <td>15300</td>\n",
       "      <td>2990</td>\n",
       "      <td>NaN</td>\n",
       "      <td>NaN</td>\n",
       "      <td>NaN</td>\n",
       "      <td>NaN</td>\n",
       "      <td>NaN</td>\n",
       "      <td>NaN</td>\n",
       "      <td>NaN</td>\n",
       "      <td>NaN</td>\n",
       "      <td>NaN</td>\n",
       "    </tr>\n",
       "    <tr>\n",
       "      <th>2019-12-01</th>\n",
       "      <td>735880</td>\n",
       "      <td>521000</td>\n",
       "      <td>357500</td>\n",
       "      <td>49900</td>\n",
       "      <td>201930</td>\n",
       "      <td>7360</td>\n",
       "      <td>16150</td>\n",
       "      <td>2560</td>\n",
       "      <td>NaN</td>\n",
       "      <td>NaN</td>\n",
       "      <td>NaN</td>\n",
       "      <td>NaN</td>\n",
       "      <td>NaN</td>\n",
       "      <td>NaN</td>\n",
       "      <td>NaN</td>\n",
       "      <td>NaN</td>\n",
       "      <td>NaN</td>\n",
       "    </tr>\n",
       "    <tr>\n",
       "      <th>2020-01-01</th>\n",
       "      <td>884880</td>\n",
       "      <td>611550</td>\n",
       "      <td>415910</td>\n",
       "      <td>64880</td>\n",
       "      <td>251320</td>\n",
       "      <td>8870</td>\n",
       "      <td>18570</td>\n",
       "      <td>2770</td>\n",
       "      <td>0.0</td>\n",
       "      <td>4.0</td>\n",
       "      <td>0.0</td>\n",
       "      <td>2.0</td>\n",
       "      <td>2.0</td>\n",
       "      <td>0.0</td>\n",
       "      <td>4.0</td>\n",
       "      <td>1.0</td>\n",
       "      <td>13.0</td>\n",
       "    </tr>\n",
       "    <tr>\n",
       "      <th>2020-02-01</th>\n",
       "      <td>608110</td>\n",
       "      <td>433770</td>\n",
       "      <td>287170</td>\n",
       "      <td>41630</td>\n",
       "      <td>181960</td>\n",
       "      <td>4000</td>\n",
       "      <td>12140</td>\n",
       "      <td>2470</td>\n",
       "      <td>0.0</td>\n",
       "      <td>49.0</td>\n",
       "      <td>0.0</td>\n",
       "      <td>18.0</td>\n",
       "      <td>4.0</td>\n",
       "      <td>2.0</td>\n",
       "      <td>15.0</td>\n",
       "      <td>8.0</td>\n",
       "      <td>96.0</td>\n",
       "    </tr>\n",
       "    <tr>\n",
       "      <th>2020-03-01</th>\n",
       "      <td>350800</td>\n",
       "      <td>260710</td>\n",
       "      <td>173850</td>\n",
       "      <td>25230</td>\n",
       "      <td>102820</td>\n",
       "      <td>2440</td>\n",
       "      <td>6630</td>\n",
       "      <td>1500</td>\n",
       "      <td>93.0</td>\n",
       "      <td>2756.0</td>\n",
       "      <td>25.0</td>\n",
       "      <td>976.0</td>\n",
       "      <td>410.0</td>\n",
       "      <td>84.0</td>\n",
       "      <td>1210.0</td>\n",
       "      <td>472.0</td>\n",
       "      <td>6026.0</td>\n",
       "    </tr>\n",
       "    <tr>\n",
       "      <th>2020-04-01</th>\n",
       "      <td>8020</td>\n",
       "      <td>7280</td>\n",
       "      <td>3370</td>\n",
       "      <td>700</td>\n",
       "      <td>1990</td>\n",
       "      <td>0</td>\n",
       "      <td>250</td>\n",
       "      <td>0</td>\n",
       "      <td>14.0</td>\n",
       "      <td>440.0</td>\n",
       "      <td>4.0</td>\n",
       "      <td>65.0</td>\n",
       "      <td>23.0</td>\n",
       "      <td>142.0</td>\n",
       "      <td>191.0</td>\n",
       "      <td>103.0</td>\n",
       "      <td>982.0</td>\n",
       "    </tr>\n",
       "    <tr>\n",
       "      <th>2020-05-01</th>\n",
       "      <td>9750</td>\n",
       "      <td>5920</td>\n",
       "      <td>2150</td>\n",
       "      <td>0</td>\n",
       "      <td>1170</td>\n",
       "      <td>0</td>\n",
       "      <td>210</td>\n",
       "      <td>210</td>\n",
       "      <td>1.0</td>\n",
       "      <td>65.0</td>\n",
       "      <td>0.0</td>\n",
       "      <td>9.0</td>\n",
       "      <td>1.0</td>\n",
       "      <td>1.0</td>\n",
       "      <td>256.0</td>\n",
       "      <td>33.0</td>\n",
       "      <td>366.0</td>\n",
       "    </tr>\n",
       "    <tr>\n",
       "      <th>2020-06-01</th>\n",
       "      <td>11670</td>\n",
       "      <td>6360</td>\n",
       "      <td>4500</td>\n",
       "      <td>290</td>\n",
       "      <td>1760</td>\n",
       "      <td>0</td>\n",
       "      <td>890</td>\n",
       "      <td>300</td>\n",
       "      <td>0.0</td>\n",
       "      <td>131.0</td>\n",
       "      <td>1.0</td>\n",
       "      <td>9.0</td>\n",
       "      <td>3.0</td>\n",
       "      <td>0.0</td>\n",
       "      <td>936.0</td>\n",
       "      <td>15.0</td>\n",
       "      <td>1095.0</td>\n",
       "    </tr>\n",
       "    <tr>\n",
       "      <th>2020-07-01</th>\n",
       "      <td>11220</td>\n",
       "      <td>30</td>\n",
       "      <td>2970</td>\n",
       "      <td>380</td>\n",
       "      <td>2900</td>\n",
       "      <td>0</td>\n",
       "      <td>780</td>\n",
       "      <td>10</td>\n",
       "      <td>5.0</td>\n",
       "      <td>399.0</td>\n",
       "      <td>3.0</td>\n",
       "      <td>16.0</td>\n",
       "      <td>11.0</td>\n",
       "      <td>1.0</td>\n",
       "      <td>9740.0</td>\n",
       "      <td>42.0</td>\n",
       "      <td>10217.0</td>\n",
       "    </tr>\n",
       "    <tr>\n",
       "      <th>2020-08-01</th>\n",
       "      <td>9660</td>\n",
       "      <td>70</td>\n",
       "      <td>2050</td>\n",
       "      <td>1120</td>\n",
       "      <td>2150</td>\n",
       "      <td>0</td>\n",
       "      <td>390</td>\n",
       "      <td>0</td>\n",
       "      <td>0.0</td>\n",
       "      <td>276.0</td>\n",
       "      <td>0.0</td>\n",
       "      <td>40.0</td>\n",
       "      <td>9.0</td>\n",
       "      <td>1.0</td>\n",
       "      <td>6949.0</td>\n",
       "      <td>11.0</td>\n",
       "      <td>7286.0</td>\n",
       "    </tr>\n",
       "  </tbody>\n",
       "</table>\n",
       "</div>"
      ],
      "text/plain": [
       "            New South Wales  Victoria  Queensland  South Australia  \\\n",
       "Date                                                                 \n",
       "2016-09-01           611700    405310      320720            42480   \n",
       "2016-10-01           706420    441150      344250            47330   \n",
       "2016-11-01           609170    388780      283230            35850   \n",
       "2016-12-01           690540    446980      326470            42640   \n",
       "2017-01-01           844600    528230      369900            52310   \n",
       "2017-02-01           670180    427090      287080            38560   \n",
       "2017-03-01           616060    394760      291430            35160   \n",
       "2017-04-01           668710    420180      315970            35210   \n",
       "2017-05-01           567850    355720      270600            33850   \n",
       "2017-06-01           559620    368350      283520            34740   \n",
       "2017-07-01           759770    501400      366290            47590   \n",
       "2017-08-01           642050    424280      317110            43040   \n",
       "2017-09-01           659990    429730      330460            45120   \n",
       "2017-10-01           749490    493830      352240            47800   \n",
       "2017-11-01           646770    424460      298360            38040   \n",
       "2017-12-01           718160    482200      339180            43250   \n",
       "2018-01-01           863050    556050      385950            59170   \n",
       "2018-02-01           712280    472760      305220            41800   \n",
       "2018-03-01           689210    449300      317890            38530   \n",
       "2018-04-01           668550    454770      317150            36650   \n",
       "2018-05-01           602770    387800      281320            35660   \n",
       "2018-06-01           588330    413260      293630            36300   \n",
       "2018-07-01           798090    542820      382170            49340   \n",
       "2018-08-01           669370    466750      341540            43810   \n",
       "2018-09-01           669000    474160      327990            46530   \n",
       "2018-10-01           794740    530480      364510            50200   \n",
       "2018-11-01           672870    466880      293330            41910   \n",
       "2018-12-01           752090    500060      344080            45310   \n",
       "2019-01-01           898340    599560      403650            58880   \n",
       "2019-02-01           724390    512350      309450            45670   \n",
       "2019-03-01           663460    470920      304410            39840   \n",
       "2019-04-01           678560    474700      321840            41610   \n",
       "2019-05-01           642050    436940      292120            39090   \n",
       "2019-06-01           609700    431390      299070            41290   \n",
       "2019-07-01           772040    557180      393650            56280   \n",
       "2019-08-01           688480    491690      345460            51170   \n",
       "2019-09-01           675210    480220      328740            54000   \n",
       "2019-10-01           786030    531130      372300            56670   \n",
       "2019-11-01           675600    480850      313600            44560   \n",
       "2019-12-01           735880    521000      357500            49900   \n",
       "2020-01-01           884880    611550      415910            64880   \n",
       "2020-02-01           608110    433770      287170            41630   \n",
       "2020-03-01           350800    260710      173850            25230   \n",
       "2020-04-01             8020      7280        3370              700   \n",
       "2020-05-01             9750      5920        2150                0   \n",
       "2020-06-01            11670      6360        4500              290   \n",
       "2020-07-01            11220        30        2970              380   \n",
       "2020-08-01             9660        70        2050             1120   \n",
       "\n",
       "            Western Australia  Tasmania  Northern Territory  ACT_x  ACT_y  \\\n",
       "Date                                                                        \n",
       "2016-09-01             191100         0               17370   1480    NaN   \n",
       "2016-10-01             216040        10               21970   3910    NaN   \n",
       "2016-11-01             175590        80               18250   3660    NaN   \n",
       "2016-12-01             195490      4420               11650   2720    NaN   \n",
       "2017-01-01             245060      1310               22240   4690    NaN   \n",
       "2017-02-01             189240      7540               13280   3350    NaN   \n",
       "2017-03-01             168140      4750               13390   3690    NaN   \n",
       "2017-04-01             189970      1900               14500   4010    NaN   \n",
       "2017-05-01             157610         0               14730   3000    NaN   \n",
       "2017-06-01             161550         0               13570   3190    NaN   \n",
       "2017-07-01             213250         0               19720   4040    NaN   \n",
       "2017-08-01             179650         0               15080   3440    NaN   \n",
       "2017-09-01             185580         0               15570   3720    NaN   \n",
       "2017-10-01             219010        60               13980   4520    NaN   \n",
       "2017-11-01             175330      1960               13380   4050    NaN   \n",
       "2017-12-01             188270      2820               12780   3810    NaN   \n",
       "2018-01-01             238110      4180               17670   5520    NaN   \n",
       "2018-02-01             178580      4950               11180   3900    NaN   \n",
       "2018-03-01             175160       200                9960   4240    NaN   \n",
       "2018-04-01             174350        10               13090   5180    NaN   \n",
       "2018-05-01             160380         0               10310   3100    NaN   \n",
       "2018-06-01             165280         0               14190   3600    NaN   \n",
       "2018-07-01             218180         0               14670   4510    NaN   \n",
       "2018-08-01             182480         0               12520   3720    NaN   \n",
       "2018-09-01             186840         0               15170   3940    NaN   \n",
       "2018-10-01             211300        10               12600   4090    NaN   \n",
       "2018-11-01             172370      5400               13710   3210    NaN   \n",
       "2018-12-01             192920      4260               13770   2590    NaN   \n",
       "2019-01-01             234840      3290               15450   3550    NaN   \n",
       "2019-02-01             182960      3260               12140   3030    NaN   \n",
       "2019-03-01             167440      5160                9960   2740    NaN   \n",
       "2019-04-01             177370      3440               13970   2930    NaN   \n",
       "2019-05-01             163220         0               13330   3130    NaN   \n",
       "2019-06-01             164790         0               13130   3620    NaN   \n",
       "2019-07-01             211560         0               17990   4310    NaN   \n",
       "2019-08-01             188580         0               16160   3410    NaN   \n",
       "2019-09-01             189490         0               17700   3670    NaN   \n",
       "2019-10-01             214380         0               18280   3940    NaN   \n",
       "2019-11-01             188580      2910               15300   2990    NaN   \n",
       "2019-12-01             201930      7360               16150   2560    NaN   \n",
       "2020-01-01             251320      8870               18570   2770    0.0   \n",
       "2020-02-01             181960      4000               12140   2470    0.0   \n",
       "2020-03-01             102820      2440                6630   1500   93.0   \n",
       "2020-04-01               1990         0                 250      0   14.0   \n",
       "2020-05-01               1170         0                 210    210    1.0   \n",
       "2020-06-01               1760         0                 890    300    0.0   \n",
       "2020-07-01               2900         0                 780     10    5.0   \n",
       "2020-08-01               2150         0                 390      0    0.0   \n",
       "\n",
       "               NSW    NT    QLD     SA    TAS     VIC     WA      AUS  \n",
       "Date                                                                   \n",
       "2016-09-01     NaN   NaN    NaN    NaN    NaN     NaN    NaN      NaN  \n",
       "2016-10-01     NaN   NaN    NaN    NaN    NaN     NaN    NaN      NaN  \n",
       "2016-11-01     NaN   NaN    NaN    NaN    NaN     NaN    NaN      NaN  \n",
       "2016-12-01     NaN   NaN    NaN    NaN    NaN     NaN    NaN      NaN  \n",
       "2017-01-01     NaN   NaN    NaN    NaN    NaN     NaN    NaN      NaN  \n",
       "2017-02-01     NaN   NaN    NaN    NaN    NaN     NaN    NaN      NaN  \n",
       "2017-03-01     NaN   NaN    NaN    NaN    NaN     NaN    NaN      NaN  \n",
       "2017-04-01     NaN   NaN    NaN    NaN    NaN     NaN    NaN      NaN  \n",
       "2017-05-01     NaN   NaN    NaN    NaN    NaN     NaN    NaN      NaN  \n",
       "2017-06-01     NaN   NaN    NaN    NaN    NaN     NaN    NaN      NaN  \n",
       "2017-07-01     NaN   NaN    NaN    NaN    NaN     NaN    NaN      NaN  \n",
       "2017-08-01     NaN   NaN    NaN    NaN    NaN     NaN    NaN      NaN  \n",
       "2017-09-01     NaN   NaN    NaN    NaN    NaN     NaN    NaN      NaN  \n",
       "2017-10-01     NaN   NaN    NaN    NaN    NaN     NaN    NaN      NaN  \n",
       "2017-11-01     NaN   NaN    NaN    NaN    NaN     NaN    NaN      NaN  \n",
       "2017-12-01     NaN   NaN    NaN    NaN    NaN     NaN    NaN      NaN  \n",
       "2018-01-01     NaN   NaN    NaN    NaN    NaN     NaN    NaN      NaN  \n",
       "2018-02-01     NaN   NaN    NaN    NaN    NaN     NaN    NaN      NaN  \n",
       "2018-03-01     NaN   NaN    NaN    NaN    NaN     NaN    NaN      NaN  \n",
       "2018-04-01     NaN   NaN    NaN    NaN    NaN     NaN    NaN      NaN  \n",
       "2018-05-01     NaN   NaN    NaN    NaN    NaN     NaN    NaN      NaN  \n",
       "2018-06-01     NaN   NaN    NaN    NaN    NaN     NaN    NaN      NaN  \n",
       "2018-07-01     NaN   NaN    NaN    NaN    NaN     NaN    NaN      NaN  \n",
       "2018-08-01     NaN   NaN    NaN    NaN    NaN     NaN    NaN      NaN  \n",
       "2018-09-01     NaN   NaN    NaN    NaN    NaN     NaN    NaN      NaN  \n",
       "2018-10-01     NaN   NaN    NaN    NaN    NaN     NaN    NaN      NaN  \n",
       "2018-11-01     NaN   NaN    NaN    NaN    NaN     NaN    NaN      NaN  \n",
       "2018-12-01     NaN   NaN    NaN    NaN    NaN     NaN    NaN      NaN  \n",
       "2019-01-01     NaN   NaN    NaN    NaN    NaN     NaN    NaN      NaN  \n",
       "2019-02-01     NaN   NaN    NaN    NaN    NaN     NaN    NaN      NaN  \n",
       "2019-03-01     NaN   NaN    NaN    NaN    NaN     NaN    NaN      NaN  \n",
       "2019-04-01     NaN   NaN    NaN    NaN    NaN     NaN    NaN      NaN  \n",
       "2019-05-01     NaN   NaN    NaN    NaN    NaN     NaN    NaN      NaN  \n",
       "2019-06-01     NaN   NaN    NaN    NaN    NaN     NaN    NaN      NaN  \n",
       "2019-07-01     NaN   NaN    NaN    NaN    NaN     NaN    NaN      NaN  \n",
       "2019-08-01     NaN   NaN    NaN    NaN    NaN     NaN    NaN      NaN  \n",
       "2019-09-01     NaN   NaN    NaN    NaN    NaN     NaN    NaN      NaN  \n",
       "2019-10-01     NaN   NaN    NaN    NaN    NaN     NaN    NaN      NaN  \n",
       "2019-11-01     NaN   NaN    NaN    NaN    NaN     NaN    NaN      NaN  \n",
       "2019-12-01     NaN   NaN    NaN    NaN    NaN     NaN    NaN      NaN  \n",
       "2020-01-01     4.0   0.0    2.0    2.0    0.0     4.0    1.0     13.0  \n",
       "2020-02-01    49.0   0.0   18.0    4.0    2.0    15.0    8.0     96.0  \n",
       "2020-03-01  2756.0  25.0  976.0  410.0   84.0  1210.0  472.0   6026.0  \n",
       "2020-04-01   440.0   4.0   65.0   23.0  142.0   191.0  103.0    982.0  \n",
       "2020-05-01    65.0   0.0    9.0    1.0    1.0   256.0   33.0    366.0  \n",
       "2020-06-01   131.0   1.0    9.0    3.0    0.0   936.0   15.0   1095.0  \n",
       "2020-07-01   399.0   3.0   16.0   11.0    1.0  9740.0   42.0  10217.0  \n",
       "2020-08-01   276.0   0.0   40.0    9.0    1.0  6949.0   11.0   7286.0  "
      ]
     },
     "execution_count": 13,
     "metadata": {},
     "output_type": "execute_result"
    }
   ],
   "source": [
    "arrivals_covid"
   ]
  },
  {
   "cell_type": "code",
   "execution_count": 14,
   "metadata": {},
   "outputs": [
    {
     "data": {
      "image/png": "[encoded data removed]",
      "text/plain": [
       "<Figure size 1440x720 with 2 Axes>"
      ]
     },
     "metadata": {
      "needs_background": "light"
     },
     "output_type": "display_data"
    }
   ],
   "source": [
    "#set graph size, x and y axis\n",
    "fig, ax = plt.subplots(figsize=(20, 10))\n",
    "ax.set_ylabel('Arrivals')\n",
    "ax.plot(arrivals_covid[['New South Wales', 'Victoria','Queensland', 'South Australia', 'Western Australia','Tasmania', 'Northern Territory']].loc['Sep-2016':],linewidth=4, zorder=0)\n",
    "ax.legend(['New South Wales', 'Victoria','Queensland', 'South Australia', 'Western Australia','Tasmania','Northern Territory'], bbox_to_anchor=(1.15, 1))\n",
    "plt.title('International Arrivals by state and Covid-19 cases', fontsize=18,weight='bold')\n",
    "#plot arrivals by state from Sep 2016\n",
    "ax2 = ax.twinx()\n",
    "ax2.tick_params(axis='y')\n",
    "ax2.set_ylabel('Covid Cases')\n",
    "ax2.bar(arrivals_covid.index, arrivals_covid['AUS'], width=15, color= 'darkorange', zorder=10)\n",
    "plt.show()"
   ]
  },
  {
   "cell_type": "markdown",
   "metadata": {},
   "source": [
    "This plot breaks down international arrivals by state as well as the monthly number of covid cases. Prior to the outbreak of Covid-19 in January 2020, we can see a stable trend for all states, with peaks occuring over the holidays months particularly at the end of year. As the number of Covid-19 cases rise over February and March 2020 the number of international arrivals drop significantly , even before the announcement of travel restrictions and bans. After the international travel ban was announced in late March, which imposed limits on the  number of international arrivals per month, we can that arrivals across the states remain flat. Hence we can observe that Covid has had a significant impact on the international arrivals into Australia for each state. This strong relationship shows that NSW, Victoria, Queensland and Western Australia has been affected the most since these states have always had a large number of international arrivals in the past."
   ]
  },
  {
   "cell_type": "markdown",
   "metadata": {},
   "source": [
    "#### Relationship between international arrivals and unemployment rate"
   ]
  },
  {
   "cell_type": "code",
   "execution_count": 15,
   "metadata": {},
   "outputs": [
    {
     "data": {
      "text/html": [
       "<div>\n",
       "<style scoped>\n",
       "    .dataframe tbody tr th:only-of-type {\n",
       "        vertical-align: middle;\n",
       "    }\n",
       "\n",
       "    .dataframe tbody tr th {\n",
       "        vertical-align: top;\n",
       "    }\n",
       "\n",
       "    .dataframe thead th {\n",
       "        text-align: right;\n",
       "    }\n",
       "</style>\n",
       "<table border=\"1\" class=\"dataframe\">\n",
       "  <thead>\n",
       "    <tr style=\"text-align: right;\">\n",
       "      <th></th>\n",
       "      <th>NSW</th>\n",
       "      <th>VIC</th>\n",
       "      <th>Queensland</th>\n",
       "      <th>SA</th>\n",
       "      <th>WA</th>\n",
       "      <th>TAS</th>\n",
       "      <th>NT</th>\n",
       "      <th>ACT</th>\n",
       "      <th>Cash Rate</th>\n",
       "    </tr>\n",
       "    <tr>\n",
       "      <th>Date</th>\n",
       "      <th></th>\n",
       "      <th></th>\n",
       "      <th></th>\n",
       "      <th></th>\n",
       "      <th></th>\n",
       "      <th></th>\n",
       "      <th></th>\n",
       "      <th></th>\n",
       "      <th></th>\n",
       "    </tr>\n",
       "  </thead>\n",
       "  <tbody>\n",
       "    <tr>\n",
       "      <th>Aug-1990</th>\n",
       "      <td>6.408647</td>\n",
       "      <td>6.260645</td>\n",
       "      <td>8.094810</td>\n",
       "      <td>8.089377</td>\n",
       "      <td>7.648001</td>\n",
       "      <td>9.160017</td>\n",
       "      <td>7.104974</td>\n",
       "      <td>4.697818</td>\n",
       "      <td>14.000000</td>\n",
       "    </tr>\n",
       "    <tr>\n",
       "      <th>Sep-1990</th>\n",
       "      <td>6.807682</td>\n",
       "      <td>6.820065</td>\n",
       "      <td>7.967979</td>\n",
       "      <td>8.433300</td>\n",
       "      <td>8.300904</td>\n",
       "      <td>9.291520</td>\n",
       "      <td>8.547961</td>\n",
       "      <td>4.391836</td>\n",
       "      <td>14.000000</td>\n",
       "    </tr>\n",
       "    <tr>\n",
       "      <th>Oct-1990</th>\n",
       "      <td>6.240983</td>\n",
       "      <td>6.981338</td>\n",
       "      <td>8.039421</td>\n",
       "      <td>8.044538</td>\n",
       "      <td>7.909861</td>\n",
       "      <td>9.175585</td>\n",
       "      <td>8.096814</td>\n",
       "      <td>5.446667</td>\n",
       "      <td>13.434783</td>\n",
       "    </tr>\n",
       "    <tr>\n",
       "      <th>Nov-1990</th>\n",
       "      <td>6.616639</td>\n",
       "      <td>7.570022</td>\n",
       "      <td>8.195478</td>\n",
       "      <td>7.984178</td>\n",
       "      <td>8.056036</td>\n",
       "      <td>8.369886</td>\n",
       "      <td>5.959111</td>\n",
       "      <td>5.364709</td>\n",
       "      <td>13.000000</td>\n",
       "    </tr>\n",
       "    <tr>\n",
       "      <th>Dec-1990</th>\n",
       "      <td>7.250639</td>\n",
       "      <td>8.057391</td>\n",
       "      <td>9.464339</td>\n",
       "      <td>8.467505</td>\n",
       "      <td>8.684312</td>\n",
       "      <td>9.757299</td>\n",
       "      <td>8.475089</td>\n",
       "      <td>6.212511</td>\n",
       "      <td>12.578947</td>\n",
       "    </tr>\n",
       "  </tbody>\n",
       "</table>\n",
       "</div>"
      ],
      "text/plain": [
       "               NSW       VIC  Queensland        SA        WA       TAS  \\\n",
       "Date                                                                     \n",
       "Aug-1990  6.408647  6.260645    8.094810  8.089377  7.648001  9.160017   \n",
       "Sep-1990  6.807682  6.820065    7.967979  8.433300  8.300904  9.291520   \n",
       "Oct-1990  6.240983  6.981338    8.039421  8.044538  7.909861  9.175585   \n",
       "Nov-1990  6.616639  7.570022    8.195478  7.984178  8.056036  8.369886   \n",
       "Dec-1990  7.250639  8.057391    9.464339  8.467505  8.684312  9.757299   \n",
       "\n",
       "                NT       ACT  Cash Rate  \n",
       "Date                                     \n",
       "Aug-1990  7.104974  4.697818  14.000000  \n",
       "Sep-1990  8.547961  4.391836  14.000000  \n",
       "Oct-1990  8.096814  5.446667  13.434783  \n",
       "Nov-1990  5.959111  5.364709  13.000000  \n",
       "Dec-1990  8.475089  6.212511  12.578947  "
      ]
     },
     "execution_count": 15,
     "metadata": {},
     "output_type": "execute_result"
    }
   ],
   "source": [
    "##merge cash rate df and unemployment within states\n",
    "unemploy_df=unemployment_df[['Unemployment rate NSW','Unemployment rate Victoria','Unemployment rate Queensland','Unemployment rate South Australia','Unemployment rate Western Australia','Unemployment rate Tasmania','Unemployment rate Northern Territory','Unemployment rate Australian capital territory']]\n",
    "cashrate_unemployment = pd.merge(unemploy_df, cash_rate_df, how = 'outer' , on='Date' )\n",
    "cashrate_unemploy=cashrate_unemployment.dropna()\n",
    "##change column headings\n",
    "cashrate_unemploy.columns=['NSW','VIC','Queensland','SA','WA','TAS','NT','ACT','Cash Rate']\n",
    "cashrate_unemploy.head()"
   ]
  },
  {
   "cell_type": "code",
   "execution_count": 16,
   "metadata": {},
   "outputs": [],
   "source": [
    "unemploy_aus=unemployment_df[['Unemployment rate Australia']]\n",
    "cashrate_unemploy_aus = pd.merge(unemploy_aus, cash_rate_df, how = 'outer' , on='Date' )\n",
    "cashrate_unemploy_aus = cashrate_unemploy_aus.dropna()\n",
    "arrivals_aus=arrivals_df[['Australia']]\n",
    "cashrate_unemploy_arrivals = pd.merge(cashrate_unemploy_aus, arrivals_aus, how = 'outer' , on='Date' )\n",
    "job_aus=job_vacancies_df[['AUST']]\n",
    "pp_df = pd.merge(job_aus, cashrate_unemploy_arrivals, how = 'outer' , on='Date' )\n",
    "##covid_aus=covid_df[['AUS']]\n",
    "##pairplot_df = pd.merge(pp_df, covid_aus, how = 'outer' , on='Date' )\n",
    "pp_df.columns=['Job Vacancies','Unemployment Rate','Cash Rate','Arrivals']\n",
    "pp_df=pp_df.dropna()\n",
    "pp_df.drop('Cash Rate', axis=1, inplace=True)\n",
    "##pairplot_df=pairplot_df[['Job Vacancies','Unemployment Rate','Cash Rate','Arrivals']]"
   ]
  },
  {
   "cell_type": "code",
   "execution_count": 17,
   "metadata": {},
   "outputs": [
    {
     "ename": "AttributeError",
     "evalue": "module 'seaborn' has no attribute 'histplot'",
     "output_type": "error",
     "traceback": [
      "\u001b[1;31m---------------------------------------------------------------------------\u001b[0m",
      "\u001b[1;31mAttributeError\u001b[0m                            Traceback (most recent call last)",
      "\u001b[1;32m<ipython-input-17-25765dab01d3>\u001b[0m in \u001b[0;36m<module>\u001b[1;34m\u001b[0m\n\u001b[0;32m      9\u001b[0m \u001b[0mcombined_pp\u001b[0m\u001b[1;33m.\u001b[0m\u001b[0mmap_upper\u001b[0m\u001b[1;33m(\u001b[0m\u001b[0msns\u001b[0m\u001b[1;33m.\u001b[0m\u001b[0mregplot\u001b[0m\u001b[1;33m,\u001b[0m \u001b[0mcolor\u001b[0m\u001b[1;33m=\u001b[0m\u001b[1;34m'g'\u001b[0m\u001b[1;33m,\u001b[0m \u001b[0mline_kws\u001b[0m\u001b[1;33m=\u001b[0m\u001b[1;33m{\u001b[0m\u001b[1;34m\"color\"\u001b[0m\u001b[1;33m:\u001b[0m \u001b[1;34m\"red\"\u001b[0m\u001b[1;33m}\u001b[0m\u001b[1;33m)\u001b[0m\u001b[1;33m\u001b[0m\u001b[1;33m\u001b[0m\u001b[0m\n\u001b[0;32m     10\u001b[0m \u001b[0mcombined_pp\u001b[0m\u001b[1;33m.\u001b[0m\u001b[0mmap_lower\u001b[0m\u001b[1;33m(\u001b[0m\u001b[0msns\u001b[0m\u001b[1;33m.\u001b[0m\u001b[0mscatterplot\u001b[0m\u001b[1;33m)\u001b[0m\u001b[1;33m\u001b[0m\u001b[1;33m\u001b[0m\u001b[0m\n\u001b[1;32m---> 11\u001b[1;33m \u001b[0mcombined_pp\u001b[0m\u001b[1;33m.\u001b[0m\u001b[0mmap_diag\u001b[0m\u001b[1;33m(\u001b[0m\u001b[0msns\u001b[0m\u001b[1;33m.\u001b[0m\u001b[0mhistplot\u001b[0m\u001b[1;33m,\u001b[0m \u001b[0mcolor\u001b[0m\u001b[1;33m=\u001b[0m\u001b[1;34m\".3\"\u001b[0m\u001b[1;33m)\u001b[0m\u001b[1;33m\u001b[0m\u001b[1;33m\u001b[0m\u001b[0m\n\u001b[0m\u001b[0;32m     12\u001b[0m \u001b[1;32mfor\u001b[0m \u001b[0max\u001b[0m\u001b[1;33m,\u001b[0m \u001b[0mcol\u001b[0m \u001b[1;32min\u001b[0m \u001b[0mzip\u001b[0m\u001b[1;33m(\u001b[0m\u001b[0mnp\u001b[0m\u001b[1;33m.\u001b[0m\u001b[0mdiag\u001b[0m\u001b[1;33m(\u001b[0m\u001b[0mcombined_pp\u001b[0m\u001b[1;33m.\u001b[0m\u001b[0maxes\u001b[0m\u001b[1;33m)\u001b[0m\u001b[1;33m,\u001b[0m \u001b[0mpp_df\u001b[0m\u001b[1;33m.\u001b[0m\u001b[0mcolumns\u001b[0m\u001b[1;33m)\u001b[0m\u001b[1;33m:\u001b[0m\u001b[1;33m\u001b[0m\u001b[1;33m\u001b[0m\u001b[0m\n\u001b[0;32m     13\u001b[0m     \u001b[0max\u001b[0m\u001b[1;33m.\u001b[0m\u001b[0mset_title\u001b[0m\u001b[1;33m(\u001b[0m\u001b[0mcol\u001b[0m\u001b[1;33m,\u001b[0m \u001b[0my\u001b[0m\u001b[1;33m=\u001b[0m\u001b[1;36m0.82\u001b[0m\u001b[1;33m,\u001b[0m \u001b[0mfontsize\u001b[0m\u001b[1;33m=\u001b[0m\u001b[1;36m20\u001b[0m\u001b[1;33m)\u001b[0m\u001b[1;33m\u001b[0m\u001b[1;33m\u001b[0m\u001b[0m\n",
      "\u001b[1;31mAttributeError\u001b[0m: module 'seaborn' has no attribute 'histplot'"
     ]
    },
    {
     "data": {
      "image/png": "[encoded data removed]",
      "text/plain": [
       "<Figure size 540x540 with 9 Axes>"
      ]
     },
     "metadata": {
      "needs_background": "light"
     },
     "output_type": "display_data"
    }
   ],
   "source": [
    "combined_pp=sns.PairGrid(pp_df)\n",
    "def corrfunc(x, y, **kws):\n",
    "    r, _ = stats.pearsonr(x, y)\n",
    "    ax = plt.gca()\n",
    "    ax.annotate(\"r = {:.2f}\".format(r),\n",
    "                xy=(.1, .9), xycoords=ax.transAxes)    \n",
    "    \n",
    "combined_pp.map_upper(corrfunc)\n",
    "combined_pp.map_upper(sns.regplot, color='g', line_kws={\"color\": \"red\"})\n",
    "combined_pp.map_lower(sns.scatterplot)\n",
    "combined_pp.map_diag(sns.histplot, color=\".3\")\n",
    "for ax, col in zip(np.diag(combined_pp.axes), pp_df.columns):\n",
    "    ax.set_title(col, y=0.82, fontsize=20)"
   ]
  },
  {
   "cell_type": "markdown",
   "metadata": {},
   "source": [
    "This pairplot shows the relationship between 3 different variables - Job vacancies, unemployment rate, and arrivals. We would like to see if there are any relationships between the unemployment rate, job vacancies as well as international arrivals.\n",
    "We can see there is a strong positive relationship between job vacancies and arrivals. This may be due to the increase number of job opportunities avaiable due to more people arriving into Australia, which boosts up the economy. There is also a strong negative correlation between job vancancies & unemployment as well as arrivals and unemployment in Australia, since the higher the number of international arrivals (tourists), the higher the job vacancies, hence the lower rate in unemployment. Based on these relationships, we will build a simple linear regression model for further analysis and prediction between the variables and the effectiveness of monetary policy."
   ]
  },
  {
   "cell_type": "markdown",
   "metadata": {},
   "source": [
    "### Impact of covid-19 on job vacancies by state and industry"
   ]
  },
  {
   "cell_type": "markdown",
   "metadata": {},
   "source": [
    "#### Job vacancies by state during covid"
   ]
  },
  {
   "cell_type": "code",
   "execution_count": null,
   "metadata": {},
   "outputs": [],
   "source": [
    "fig, ax = plt.subplots(figsize=(20, 10))\n",
    "\n",
    "ax.set_ylabel('Job Vacancies')\n",
    "ax.plot(job_vacancies_df[['NSW','VIC','QLD','SA','WA','TAS','NT','ACT']].loc['Jan-2020':],linewidth=4, zorder = 2)\n",
    "ax.legend(['NSW','VIC','QLD','SA','WA','TAS','NT','ACT'], bbox_to_anchor=(1, 1))\n",
    "plt.title('Job vacancies across states 2020', fontsize=18,weight='bold')\n",
    "plt.show()"
   ]
  },
  {
   "cell_type": "markdown",
   "metadata": {},
   "source": [
    "To see the changes in job vacancies across the states since the outbreak of Covid-19 in Australia, we have built a multiple-line chart as above. From the line chart, NSW and VIC job vacancies have been fluctuating while the remaining states are quite stable. An explanation for this difference could be that NSW and VIC were the two states with the highest confirmed cases of Covid-19 and that there economies are more reliant on international factors such as tourism (international arrivals)."
   ]
  },
  {
   "cell_type": "markdown",
   "metadata": {},
   "source": [
    "#### National Job vancancies 2019-2020 "
   ]
  },
  {
   "cell_type": "code",
   "execution_count": null,
   "metadata": {},
   "outputs": [],
   "source": [
    "Covid_JobVacancies = pd.merge(job_vacancies_df, covid_df, how = 'outer' , on='Date' )"
   ]
  },
  {
   "cell_type": "code",
   "execution_count": null,
   "metadata": {},
   "outputs": [],
   "source": [
    "Covid_JobVacancies.index = pd.to_datetime(Covid_JobVacancies.index)\n",
    "fig, ax = plt.subplots(figsize=(20, 10))\n",
    "\n",
    "ax.set_ylabel('Job Vacancies')\n",
    "\n",
    "ax.plot(Covid_JobVacancies['AUST'].loc['Jan-2019':],linewidth=4, zorder = 2)\n",
    "ax.legend(['Australian total'], bbox_to_anchor=(1, 1))\n",
    "plt.ylim(0)\n",
    "ax2 = ax.twinx()\n",
    "\n",
    "ax2.set_xlabel('Date')\n",
    "ax2.bar(Covid_JobVacancies.index, Covid_JobVacancies['AUS'], width=15, color= 'darkorange', zorder = 1)\n",
    "ax2.set_ylabel('Covid Cases')\n",
    "plt.title('Australian job vancanies 2019 - 2020', fontsize=18,weight='bold')\n",
    "plt.ylim(0)\n",
    "plt.show()"
   ]
  },
  {
   "cell_type": "markdown",
   "metadata": {},
   "source": [
    "The combined line-bar chart demonstrates the whole picture regarding the impacts of covid-19 on job vacancies in the country in overall. We can see job vacancies had reduced significantly since Covid19 began in early 2020, after that 4 months, from May to July the stat has slightly increased while July experiencing the peak of covid19 cases. "
   ]
  },
  {
   "cell_type": "markdown",
   "metadata": {},
   "source": [
    "#### Impact of Covid-19 on job vacancies by industry"
   ]
  },
  {
   "cell_type": "code",
   "execution_count": null,
   "metadata": {},
   "outputs": [],
   "source": [
    "Covid_JobVacancies.index = pd.to_datetime(Covid_JobVacancies.index)\n",
    "fig, ax = plt.subplots(figsize=(20, 10))\n",
    "\n",
    "ax.set_ylabel('Job Vacancies')\n",
    "ax2.set_ylabel('Covid Cases')\n",
    "\n",
    "ax.plot(Covid_JobVacancies[['Agriculture Total', 'Corporate Professionals Total',\n",
    "       'Health Total', 'Hospitality and Retail Total', 'ICT Total',\n",
    "       'Office Clerks Total', 'Other Total']].loc['Jan-2019':],linewidth=4, zorder = 2)\n",
    "\n",
    "ax.legend(['Agriculture Total', 'Corporate Professionals Total',\n",
    "       'Health Total', 'Hospitality and Retail Total', 'ICT Total',\n",
    "       'Office Clerks Total', 'Other Total'], bbox_to_anchor=(1.2, 1))\n",
    "\n",
    "ax2 = ax.twinx()\n",
    "\n",
    "ax2.set_xlabel('Date')\n",
    "ax2.bar(Covid_JobVacancies.index, Covid_JobVacancies['AUS'], width=15, color= 'darkorange', zorder = 1)\n",
    "ax2.set_ylabel('Covid Cases')\n",
    "plt.ylim(0)\n",
    "\n",
    "plt.title('Job vacancies by industry 2019 - 2020', fontsize=18,weight='bold')\n",
    "plt.show()"
   ]
  },
  {
   "cell_type": "markdown",
   "metadata": {},
   "source": [
    "The plot shows job vacancies from 2019 onwards by industry. We can see that corporate, office clerks and hospitality  and retail industries are trending downwards from the second half of 2019 however the outbreak of Covid-19 significantly exacerbated the job losses in those industries. Agriculture and health industries on the otherhand experienced some gains in job vancancies during Covid-19 which is likely the result of ensuring food and health security for the country. Job vacancies across all industries begin to stabilise around May 2020 as lockdown restrictions begin to ease and goverment stimulus flows into the economy."
   ]
  },
  {
   "cell_type": "markdown",
   "metadata": {},
   "source": [
    "### Covid-19, unemployment rate and monetary policy"
   ]
  },
  {
   "cell_type": "markdown",
   "metadata": {},
   "source": [
    "#### Unemployment rate by state 19-20"
   ]
  },
  {
   "cell_type": "code",
   "execution_count": null,
   "metadata": {},
   "outputs": [],
   "source": [
    "heat_state_employment_df = state_unemployment_df.loc['Jan-2019':].copy()\n",
    "heat_state_employment_df = heat_state_employment_df.reindex(index =heat_state_employment_df.index[::-1])\n",
    "# PLot heat map\n",
    "fig, ax = plt.subplots(figsize=(20,10))\n",
    "ax = sns.heatmap(heat_state_employment_df, linewidth = 5, annot = True, fmt = 'g', cmap = 'coolwarm')\n",
    "plt.title(\"Unemployment rate by state 19-20\", fontsize = 17, weight = 'bold')\n",
    "ax.set_ylabel('')\n",
    "plt.show()"
   ]
  },
  {
   "cell_type": "markdown",
   "metadata": {},
   "source": [
    "The heatmap shows the the unemployment rate by state from 2019 onwards. It can be seen that from April 2020 all states and territories begin experience to deterioriations in the unemployment with the highest rates occuring in QLD, SA and WA. The ACT on the otherhand was least affected state.The northern territory (NT) is the only state to have recovered from the impact of Covid with unemployment rate returning to a low of 4.2% in August. While, NSW and VIC suffered the largest changes in unemployment going from 4% and 4.6% to a peak of 7.2% and 7.5% respectively. "
   ]
  },
  {
   "cell_type": "markdown",
   "metadata": {},
   "source": [
    "#### Distribution of unemployment rates by state  and gender during covid"
   ]
  },
  {
   "cell_type": "code",
   "execution_count": null,
   "metadata": {},
   "outputs": [],
   "source": [
    "# Create new unemployment df with unemployment data during Covid\n",
    "distribution_unemployment_df = unemployment_df.copy()\n",
    "distribution_unemployment_df = distribution_unemployment_df.loc['Jan-2020':]\n",
    "# Plot boxplot\n",
    "fig, ax = plt.subplots(figsize=(20, 10))\n",
    "ax = sns.boxplot(data = distribution_unemployment_df)\n",
    "plt.setp(ax.get_xticklabels(), rotation=90)\n",
    "ax.legend(['State - total', 'State - males', 'State - females'])\n",
    "ax = plt.gca()\n",
    "leg = ax.get_legend()\n",
    "leg.legendHandles[0].set_color('r')\n",
    "leg.legendHandles[1].set_color('g')\n",
    "leg.legendHandles[2].set_color('b')\n",
    "# Colours boxplot by group (total, males and females)\n",
    "i = 0\n",
    "colour = 0\n",
    "for x in range(3):\n",
    "    colour = colour + 1\n",
    "    for x in range(9):\n",
    "        mybox = ax.artists[i]\n",
    "        if colour == 1:\n",
    "            mybox.set_facecolor('r')\n",
    "        elif colour == 2:\n",
    "            mybox.set_facecolor('g')\n",
    "        elif colour == 3:\n",
    "            mybox.set_facecolor('b')\n",
    "        i = i + 1\n",
    "plt.title('Boxplot of unemployment rate by state and gender during Covid-19', fontsize=18,weight='bold')\n",
    "plt.show()"
   ]
  },
  {
   "cell_type": "markdown",
   "metadata": {},
   "source": [
    "The boxplot shows the distribution/spread of the unemployment rate across the states and territories and across gender during the Covid-19 pandemic.\n",
    "\n",
    "The median total unemployment rate is highest in South Austrlia and Queensland but is not significantly greater than the rest of the country with the exception of the Australian capital territory which has a significantly lower median. \n",
    "\n",
    "The affect of Covid-19 on unemployment has not disporportionately affected either gender excluding a couple of notable differences. The first is that the median unemployment rate for males in Queensland and South Australia is relatively higher compared to females. The second is that the spread of unemployment for males in the ACT is much larger compared to females. "
   ]
  },
  {
   "cell_type": "markdown",
   "metadata": {},
   "source": [
    "#### National unemployment rate and monetary policy response to covid-19"
   ]
  },
  {
   "cell_type": "code",
   "execution_count": null,
   "metadata": {},
   "outputs": [],
   "source": [
    "# Merge covid and unemployment into new df\n",
    "Covid_unemployment = pd.merge(unemployment_df, covid_df, how = 'outer' , on='Date' )\n",
    "Covid_unemployment.index = pd.to_datetime(Covid_unemployment.index)\n",
    "# Plot unemployment rate from Jan-15 onwwards\n",
    "fig, ax = plt.subplots(figsize=(20, 10))\n",
    "ax.plot(Covid_unemployment['Unemployment rate Australia'].loc['Jan-2015':], color= 'b',linewidth=4, zorder=1)\n",
    "plt.title('Monetary policy, unemployment rate & Covid-19 cases', fontsize=17,weight='bold')\n",
    "# plot cash rate\n",
    "ax.plot(Covid_unemployment['Unemployment rate Australia'].loc['Jan-2015':].index,cash_rate_df['Cash Rate Target'].loc['Jan-2015':], color= 'g',linewidth=4, zorder=0)\n",
    "# set unemployment axis range\n",
    "ax.set_ylabel('Unemployment rate & cash rate')\n",
    "ax.legend(['Unemployment rate', 'Cash rate'])\n",
    "plt.ylim(0, 8)\n",
    "# set Covid axis\n",
    "ax2 = ax.twinx()\n",
    "ax2.set_ylabel('Covid Cases')\n",
    "# Plot Covid cases from Jan-18 onwards\n",
    "ax2.bar(Covid_unemployment.index, Covid_unemployment['AUS'], width=17, color= 'r',zorder=100)\n",
    "# set Covid axis range\n",
    "ax2.tick_params(axis='y')\n",
    "plt.ylim(0, 12000)\n",
    "plt.show()"
   ]
  },
  {
   "cell_type": "markdown",
   "metadata": {},
   "source": [
    "From 2015 until the outbreak of Covid-19 in January 2020 the unemployment rate displays two principal trends. The first is that the unemployment rate is largely trending downwards, going from a peak of about 6.75% in 2015 to approximately 4.75% in the second half of 2019. The second trend is that from year to year the unemployment rate follows an annual cycle whereby it falls from a peak at the beginning, reaches a valley in the middle before peaking again at a lower point at the start of the following year. This trend highly suggests that the unemployment rate during this period follows a typical business cycle.\n",
    "\n",
    "From 2020 onwards however unemployment sharply rises as Covid-19 begins to spread within the country with the height of  unemployment coinciding with the peak of confirmed Covid-19 cases around the middle of the year. In response to the economic fall out induced by Covid-19 the RBA has lowered the cash rate to near 0% in the the hopes stimulating the economy and alleviating unemployment rate.  "
   ]
  },
  {
   "cell_type": "markdown",
   "metadata": {},
   "source": [
    "#### Effectiveness of monetary policy"
   ]
  },
  {
   "cell_type": "code",
   "execution_count": null,
   "metadata": {},
   "outputs": [],
   "source": [
    "monetary_policy_df = pd.merge(unemployment_df, cash_rate_df, on = 'Date', how = 'inner')\n",
    "monetary_policy_df.dropna(inplace = True)\n",
    "corr, _ = pearsonr(monetary_policy_df['Cash Rate Target'], monetary_policy_df['Unemployment rate Australia'])\n",
    "a4_dims = (20, 10)\n",
    "fig, ax = plt.subplots(figsize=a4_dims)\n",
    "g = sns.scatterplot(x=monetary_policy_df['Cash Rate Target'], y=monetary_policy_df['Unemployment rate Australia'])\n",
    "g.text(11, 11.5, 'Correlation coefficient: %.3f' % corr , horizontalalignment='left', size='large', weight='semibold')\n",
    "plt.title('Relationship between unemployment rate and cash rate', fontsize=17,weight='bold')\n",
    "plt.show()"
   ]
  },
  {
   "cell_type": "markdown",
   "metadata": {},
   "source": [
    "The scatterplot does not reflect a particularly strong relationship between the national unemployment rate and the cash rate from 1990 onwards as shown by the correlation coefficient of 0.395. Furthermore, a positive correlation is quite unexpected given that we would expect there to be an inverse relationship. That is, we expect that as unemployment rises the cash rate would fall so as to stimulate economy.\n",
    "\n",
    "The absence of a strong relationship suggests that monetary policy, the adjustment of the cash rate, alone is not particularly effective in influencing the unemployment rate. One explanation could be that the reserve bank of Australia is considering other economic factors such as inflation when implementing monetary policy."
   ]
  },
  {
   "cell_type": "markdown",
   "metadata": {},
   "source": [
    "# Data modelling"
   ]
  },
  {
   "cell_type": "markdown",
   "metadata": {},
   "source": [
    "## Baseline linear regression model - Australian unemployment"
   ]
  },
  {
   "cell_type": "code",
   "execution_count": null,
   "metadata": {},
   "outputs": [],
   "source": [
    "# Group cash rate df by quarter and mean\n",
    "quarterly_cash_rate_df = cash_rate_df.copy()\n",
    "SetDateIndexQuarter(quarterly_cash_rate_df)\n",
    "quarterly_cash_rate_df = quarterly_cash_rate_df.groupby(\"Date quarter\").mean()\n",
    "# Group cash rate df by quarter and mean\n",
    "quarterly_unemployment_df = unemployment_df.copy()\n",
    "SetDateIndexQuarter(quarterly_unemployment_df)\n",
    "quarterly_unemployment_df = quarterly_unemployment_df.groupby(\"Date quarter\").mean()"
   ]
  },
  {
   "cell_type": "code",
   "execution_count": null,
   "metadata": {},
   "outputs": [],
   "source": [
    "# Create unemployment rate model dataset \n",
    "unemploymentModelDatasets = [investment_df,GDP_df, inflation_df, hoursworked_df, balancepayments_df,quarterly_cash_rate_df]\n",
    "unemployment_rate_model_dataset = quarterly_unemployment_df.copy()\n",
    "# Only retaining national unemployment rate\n",
    "unemployment_rate_model_dataset.drop(unemployment_rate_model_dataset.columns[1:], inplace = True, axis = 1)\n",
    "# Merge all the datasets\n",
    "for df in unemploymentModelDatasets:\n",
    "    unemployment_rate_model_dataset = pd.merge(unemployment_rate_model_dataset,df, on ='Date quarter', how = 'inner' )\n",
    "unemployment_rate_model_dataset = unemployment_rate_model_dataset.groupby('Date quarter').mean()\n",
    "# Add column with recession\n",
    "Recession = []\n",
    "i = 0\n",
    "for row in unemployment_rate_model_dataset.index:\n",
    "    if unemployment_rate_model_dataset['Year-ended real GDP growth'].iloc[i] < 0:\n",
    "        Recession.append('Y')\n",
    "    else:\n",
    "        Recession.append('N')\n",
    "    i = i +1\n",
    "unemployment_rate_model_dataset[\"Recession\"] = Recession\n",
    "# Initialise label encoder\n",
    "le = LabelEncoder()\n",
    "le.fit(list(unemployment_rate_model_dataset[\"Recession\"].values))\n",
    "# new genre column with encoding labels\n",
    "unemployment_rate_model_dataset[\"Recession\"] = le.transform(list(unemployment_rate_model_dataset[\"Recession\"]))\n",
    "# inverse transform\n",
    "Recession_names  = list(le.inverse_transform([0,1]))\n",
    "unemployment_rate_model_dataset"
   ]
  },
  {
   "cell_type": "markdown",
   "metadata": {},
   "source": [
    "#### Split unemployment rate model dataset"
   ]
  },
  {
   "cell_type": "code",
   "execution_count": null,
   "metadata": {},
   "outputs": [],
   "source": [
    "X = unemployment_rate_model_dataset.drop(columns = ['Unemployment rate Australia', 'Recession'])\n",
    "y = unemployment_rate_model_dataset[\"Unemployment rate Australia\"]\n",
    "X_train, X_test, y_train, y_test = train_test_split(X, y, test_size=0.20, random_state = 42)"
   ]
  },
  {
   "cell_type": "markdown",
   "metadata": {},
   "source": [
    "#### Linear regression model"
   ]
  },
  {
   "cell_type": "code",
   "execution_count": null,
   "metadata": {},
   "outputs": [],
   "source": [
    "# Instantiate linear regression model\n",
    "linear_model = LinearRegression()\n",
    "# Train linear model\n",
    "linear_model.fit(X_train, y_train)"
   ]
  },
  {
   "cell_type": "markdown",
   "metadata": {},
   "source": [
    "#### Predict and evaluate linear regression model"
   ]
  },
  {
   "cell_type": "code",
   "execution_count": null,
   "metadata": {},
   "outputs": [],
   "source": [
    "# Prediction for baseline model test set\n",
    "y_hat_test_linear = linear_model.predict(X_test)\n",
    "# Assess model\n",
    "MSE_linear = mean_squared_error(y_test, y_hat_test_linear)\n",
    "R2_linear = r2_score(y_test, y_hat_test_linear)\n",
    "MAE_linear = mean_absolute_error(y_test, y_hat_test_linear)\n",
    "print(\"MSE \",MSE_linear )\n",
    "print(\"R2: \", R2_linear)\n",
    "print(\"MAE: \", MAE_linear)"
   ]
  },
  {
   "cell_type": "markdown",
   "metadata": {},
   "source": [
    "The linear regression model performed quite well given the evaluation metrics."
   ]
  },
  {
   "cell_type": "markdown",
   "metadata": {},
   "source": [
    "#### Feature importance using RFE"
   ]
  },
  {
   "cell_type": "code",
   "execution_count": null,
   "metadata": {},
   "outputs": [],
   "source": [
    "from sklearn.feature_selection import RFE\n",
    "estimator = LinearRegression()\n",
    "rmse_scores = []\n",
    "for i in range(1,7):\n",
    "    selector = RFE(linear_model, n_features_to_select=i, step=1)\n",
    "    selector = selector.fit(X_train, y_train)\n",
    "    y_hat_test = selector.predict(X_test)\n",
    "    rmse_test = np.sqrt(mean_squared_error(y_test, y_hat_test))\n",
    "    print(\"RMSE score on test set using\", i, \"features: \", rmse_test)\n",
    "    rmse_scores.append(rmse_test)"
   ]
  },
  {
   "cell_type": "code",
   "execution_count": null,
   "metadata": {},
   "outputs": [],
   "source": [
    "## Feature selection by selecting 3\n",
    "rfe = RFE(linear_model, n_features_to_select=3)\n",
    "rfe = rfe.fit(X_train, y_train)\n",
    "# print summaries for the selection of attributes\n",
    "print(rfe.support_)\n",
    "print(rfe.ranking_)\n",
    "print('Optimal number of features :', rfe.n_features_)\n",
    "print('Best features :', X_train.columns[rfe.support_])"
   ]
  },
  {
   "cell_type": "code",
   "execution_count": null,
   "metadata": {},
   "outputs": [],
   "source": [
    "plt.figure(figsize=(20,10))\n",
    "plt.grid()   \n",
    "plt.xlabel('No. of features selected')\n",
    "plt.ylabel('RMSE on the test set')\n",
    "plt.title('RMSE score on test set using RFE', fontsize=18, fontweight='bold')\n",
    "plt.plot(range(1, 7), rmse_scores, marker = 'o', color = 'lightblue', markeredgewidth = 1 ,markeredgecolor = 'DarkBlue', markerfacecolor = 'None')\n",
    "plt.show()"
   ]
  },
  {
   "cell_type": "markdown",
   "metadata": {},
   "source": [
    "RFE is used to select features on RMSE score on the test set. We have also tested using 3 features. We then use cross-validation to see what it gives for the optimal number of features."
   ]
  },
  {
   "cell_type": "code",
   "execution_count": null,
   "metadata": {},
   "outputs": [],
   "source": [
    "# RFECV to find optimal number of features\n",
    "from sklearn.model_selection import KFold\n",
    "from sklearn.feature_selection import RFECV\n",
    "model = LinearRegression()\n",
    "k =KFold(n_splits=4, random_state=42, shuffle=True)\n",
    "rfecv = RFECV(estimator=model, step=1, cv=k, scoring='neg_mean_squared_error')\n",
    "rfecv = rfecv.fit(X_train, y_train)"
   ]
  },
  {
   "cell_type": "code",
   "execution_count": null,
   "metadata": {},
   "outputs": [],
   "source": [
    "print('Optimal number of features :', rfecv.n_features_)\n",
    "print('Best features :', X_train.columns[rfecv.support_])"
   ]
  },
  {
   "cell_type": "code",
   "execution_count": null,
   "metadata": {},
   "outputs": [],
   "source": [
    "# Plot number of features VS. cross-validation scores RMSE\n",
    "plt.figure(figsize=(20,10))\n",
    "plt.xlabel(\"Number of features selected\")\n",
    "plt.ylabel(\"Cross validation Score: RMSE\")\n",
    "plt.title('RMSE scores on test set using RFECV', fontsize=18, fontweight='bold')\n",
    "\n",
    "rmse_cv_scores = np.sqrt(-rfecv.grid_scores_)\n",
    "\n",
    "p = plt.plot(range(1, len(rfecv.grid_scores_) + 1), rmse_cv_scores, marker='o', color='orange')\n",
    "plt.grid(alpha=0.5)\n",
    "plt.show()"
   ]
  },
  {
   "cell_type": "markdown",
   "metadata": {},
   "source": [
    "We can see that the optimal number of features for our model still remains at 6."
   ]
  },
  {
   "cell_type": "markdown",
   "metadata": {},
   "source": [
    "# Further prediction techniques"
   ]
  },
  {
   "cell_type": "markdown",
   "metadata": {},
   "source": [
    "### The decision tree model handling the regression problem"
   ]
  },
  {
   "cell_type": "code",
   "execution_count": null,
   "metadata": {},
   "outputs": [],
   "source": [
    "from sklearn.tree import DecisionTreeRegressor\n",
    "# Training a regression tree with max_depth=4.\n",
    "regressor = DecisionTreeRegressor(random_state=42, max_depth=4)\n",
    "regressor.fit(X_train, y_train)"
   ]
  },
  {
   "cell_type": "markdown",
   "metadata": {},
   "source": [
    "#### Evaluate the model with the testing data"
   ]
  },
  {
   "cell_type": "code",
   "execution_count": null,
   "metadata": {},
   "outputs": [],
   "source": [
    "y_pred = regressor.predict(X_test)\n",
    "r2score_dcf = r2_score(y_test,y_pred)\n",
    "\n",
    "print(\"\\nThe r2 score is: %.4f\\n\" % r2score_dcf)\n",
    "mse_test_dcf = mean_squared_error(y_test, y_pred)\n",
    "mse_train_dcf = mean_squared_error(regressor.predict(X_train), y_train)\n",
    "print(\"The mean squared error (testing) is: %.4f\\n\" % mse_test_dcf)\n",
    "print(\"The mean squared error (training) is: %.4f\\n\" % mse_train_dcf)\n",
    "\n",
    "mae_dcf = mean_absolute_error(y_test, y_pred)\n",
    "print(\"The MAE is : \", mae_dcf)"
   ]
  },
  {
   "cell_type": "markdown",
   "metadata": {},
   "source": [
    "There is a slight improvement in performance in the Decision Tree Model comparing to the Baseline Linear Model."
   ]
  },
  {
   "cell_type": "code",
   "execution_count": null,
   "metadata": {},
   "outputs": [],
   "source": [
    "from sklearn import tree\n",
    "text_representation = tree.export_text(regressor)\n",
    "print(text_representation)"
   ]
  },
  {
   "cell_type": "markdown",
   "metadata": {},
   "source": [
    "#### Visualize the tree structure."
   ]
  },
  {
   "cell_type": "markdown",
   "metadata": {},
   "source": [
    "Installing graphviz Python libraries to run the cell below. Otherwise, simply skip this cell and move to the next cell to see the result as we have run and generated a corresponding png to render"
   ]
  },
  {
   "cell_type": "code",
   "execution_count": null,
   "metadata": {},
   "outputs": [],
   "source": [
    "#Note: the graphviz Python libraries required to be install to run this code\n",
    "from sklearn.tree import export_graphviz\n",
    "export_graphviz(regressor,\n",
    "                out_file=\"tree_reg.dot\",\n",
    "                feature_names=X.columns,\n",
    "                class_names=[\"UnemploymentRate\"],\n",
    "                rounded=True,\n",
    "                filled=True\n",
    "               )\n",
    "# Convert dot file to png file.\n",
    "!dot -Tpng tree_reg.dot -o tree_reg.png"
   ]
  },
  {
   "cell_type": "code",
   "execution_count": null,
   "metadata": {},
   "outputs": [],
   "source": [
    "# Render the image \n",
    "from IPython.display import Image\n",
    "Image(filename='Images/tree_reg.png')"
   ]
  },
  {
   "cell_type": "markdown",
   "metadata": {},
   "source": [
    "### Comparing the performances between linear regressors"
   ]
  },
  {
   "cell_type": "code",
   "execution_count": null,
   "metadata": {},
   "outputs": [],
   "source": [
    "d = {'Model': ['Linear Regression','Decision Tree Regression'],'R2':[R2_linear,r2score_dcf], 'MSE': [MSE_linear,mse_test_dcf], 'MAE': [MAE_linear,mae_dcf]}\n",
    "compare_regressions = pd.DataFrame(data = d)\n",
    "compare_regressions"
   ]
  },
  {
   "cell_type": "code",
   "execution_count": null,
   "metadata": {},
   "outputs": [],
   "source": [
    "fig, ax1 = plt.subplots(figsize=(20, 10))\n",
    "tidy = compare_regressions.melt(id_vars='Model').rename(columns=str.title)\n",
    "sns.barplot(x='Model', y='Value', hue='Variable', data=tidy, ax=ax1)\n",
    "plt.title('Evaluation of linear regression vs decision tree', fontsize=18, fontweight='bold')\n",
    "sns.despine(fig)"
   ]
  },
  {
   "cell_type": "markdown",
   "metadata": {},
   "source": [
    "Overall, both models have good performance with the R2 Scores’ are 0.77 and 0.82 respectively. This means the proportion of the variance in the dependent variable that is predictable from the independent variables. In other words,  unemployment rates and the 6 features that we selected such as ‘Total Investment’, ‘GDP growth’, ‘Inflation’, ‘Hours Worked’, ‘Balance on goods and services’, ‘Cash Rate Target’ are well correlated with the variance of 23% in the baseline model, and of 0.18% in the decision tree model."
   ]
  },
  {
   "cell_type": "markdown",
   "metadata": {},
   "source": [
    "# Predicting (classifying) recessions"
   ]
  },
  {
   "cell_type": "markdown",
   "metadata": {},
   "source": [
    "Recessions are periods in which an economy contracts resulting in rising unemployment and falling GDP. The impact that a recession imposes on an economy often takes years to recover from with many industries often failing to recover at all. These periods are notoriously difficult to predict, however the ability to accurately and consistently antcipate them would mean that goverments, central banks and other financial institutions could prevent or at least mitigate their effects before they can occur. Here, we will attempt model Australian recessions using KNN and ANN and seek to classify whether a calendar quarter will slip into a recession or not."
   ]
  },
  {
   "cell_type": "code",
   "execution_count": null,
   "metadata": {},
   "outputs": [],
   "source": [
    "# Plot GDP growth rate and unemployment rate from recession_df\n",
    "Aus_recessions = quarterly_unemployment_df.copy()\n",
    "Aus_recessions = Aus_recessions.merge(GDP_df, on = 'Date quarter')\n",
    "Aus_recessions = Aus_recessions.groupby('Date quarter').mean()\n",
    "fig, ax = plt.subplots(figsize=(20, 10))\n",
    "plt.ylim(-8, 13)\n",
    "plt.title('Australian recession since 1985 ', fontsize=17,weight='bold')\n",
    "ax.plot(Aus_recessions.index.to_timestamp(),Aus_recessions['Unemployment rate Australia'], color= 'b',linewidth=4)\n",
    "ax.plot(Aus_recessions.index.to_timestamp(),Aus_recessions['Year-ended real GDP growth'], color= 'g',linewidth=4)\n",
    "plt.gca().legend(('Unemployment rate','GDP growth rate'))\n",
    "plt.show()"
   ]
  },
  {
   "cell_type": "markdown",
   "metadata": {},
   "source": [
    "Australia has experienced three recessions since the late 1970's with the first occuring the 1982-83, the second in 1991-92 and finally in 2020. As seen in the graph the unemployment rate and GDP sharply rises and falls respectively during recessions."
   ]
  },
  {
   "cell_type": "markdown",
   "metadata": {},
   "source": [
    "## KNN model"
   ]
  },
  {
   "cell_type": "markdown",
   "metadata": {},
   "source": [
    "#### Split KNN model data"
   ]
  },
  {
   "cell_type": "code",
   "execution_count": null,
   "metadata": {},
   "outputs": [],
   "source": [
    "X = unemployment_rate_model_dataset.drop(columns = 'Recession')\n",
    "y = unemployment_rate_model_dataset[\"Recession\"]"
   ]
  },
  {
   "cell_type": "code",
   "execution_count": null,
   "metadata": {},
   "outputs": [],
   "source": [
    "X_train, X_test, y_train, y_test = train_test_split(X, y, test_size=0.20, random_state = 42)\n",
    "print('Training data set shape :' , X_train.shape)\n",
    "print('Testing data set shape :' , X_test.shape)"
   ]
  },
  {
   "cell_type": "markdown",
   "metadata": {},
   "source": [
    "#### KNN model tuning"
   ]
  },
  {
   "cell_type": "code",
   "execution_count": null,
   "metadata": {},
   "outputs": [],
   "source": [
    "from sklearn.model_selection import GridSearchCV\n",
    "parameter_grid = {'n_neighbors': range(1, 86, 5)}\n",
    "knn_clf = KNeighborsClassifier()\n",
    "gs_knn = GridSearchCV(knn_clf, parameter_grid, scoring='accuracy', cv=KFold(n_splits=10, random_state = 42, shuffle=True))\n",
    "gs_knn.fit(X_train, y_train)\n",
    "\n",
    "print('Best K value: ', gs_knn.best_params_['n_neighbors'])\n",
    "print('The accuracy: %.4f\\n' % gs_knn.best_score_)"
   ]
  },
  {
   "cell_type": "markdown",
   "metadata": {},
   "source": [
    "#### Instantiate and train KNN model"
   ]
  },
  {
   "cell_type": "code",
   "execution_count": null,
   "metadata": {},
   "outputs": [],
   "source": [
    "# Instantiate and train KNN model\n",
    "KNN_model = KNeighborsClassifier(n_neighbors = 6)\n",
    "# Train KNN model\n",
    "KNN_model.fit(X_train, y_train)"
   ]
  },
  {
   "cell_type": "markdown",
   "metadata": {},
   "source": [
    "#### Predict and evaluate KNN model"
   ]
  },
  {
   "cell_type": "code",
   "execution_count": null,
   "metadata": {},
   "outputs": [],
   "source": [
    "# Prediction for KNN model test set\n",
    "from sklearn.metrics import precision_score, recall_score, balanced_accuracy_score\n",
    "y_hat_test_KNN = KNN_model.predict(X_test)\n",
    "\n",
    "#Evaluating\n",
    "accuracyKNN = accuracy_score(y_test, y_hat_test_KNN)\n",
    "print(\"Accuracy score on KNN testing set: \", accuracyKNN)\n",
    "precisionKNN = precision_score(y_test, y_hat_test_KNN, average='weighted')\n",
    "print('Testing precision score is: ', precisionKNN)\n",
    "recallKNN =recall_score(y_test, y_hat_test_KNN, average='weighted')\n",
    "print('Testing recall score is: ', recallKNN)\n",
    "bal_scoreKNN = balanced_accuracy_score(y_test, y_hat_test_KNN)\n",
    "print('Testing balanced accuracy score is: ', bal_scoreKNN)"
   ]
  },
  {
   "cell_type": "markdown",
   "metadata": {},
   "source": [
    "### Multi-layer Perceptron Classifier"
   ]
  },
  {
   "cell_type": "markdown",
   "metadata": {},
   "source": [
    "#### Training a basic MLPClassifier"
   ]
  },
  {
   "cell_type": "code",
   "execution_count": null,
   "metadata": {},
   "outputs": [],
   "source": [
    "from sklearn.model_selection import cross_val_score\n",
    "from sklearn.neural_network import MLPClassifier\n",
    "# Training the MLPClassifier with the default parameters (random_state=42)\n",
    "mlp_model = MLPClassifier(random_state=42)\n",
    "mlp_model.fit(X_train, y_train)\n",
    "\n",
    "# Output the accuracy on training data and test data respectively\n",
    "y_hat_test_mlp = mlp_model.predict(X_test)\n",
    "\n",
    "#Evaluating\n",
    "accuracyMLP = accuracy_score(y_test, y_hat_test_mlp)\n",
    "print(\"Accuracy score on KNN testing set: \", accuracyMLP)\n",
    "precisionMLP = precision_score(y_test, y_hat_test_mlp, average='weighted')\n",
    "print('Testing precision score is: ', precisionMLP)\n",
    "recallMLP =recall_score(y_test, y_hat_test_mlp, average='weighted')\n",
    "print('Testing recall score is: ', recallMLP)\n",
    "bal_scoreMLP = balanced_accuracy_score(y_test, y_hat_test_mlp)\n",
    "print('Testing balanced accuracy score is: ', bal_scoreMLP)"
   ]
  },
  {
   "cell_type": "code",
   "execution_count": null,
   "metadata": {},
   "outputs": [],
   "source": [
    "# Explore the learned MLP model\n",
    "print(mlp_model)\n",
    "print('\\n# of layers (including the input layer): %.f\\n' % mlp_model.n_layers_)\n",
    "print('MLP structure: %.f X %.f X %.f\\n' % (X.shape[1], mlp_model.get_params()['hidden_layer_sizes'][0], mlp_model.n_outputs_))"
   ]
  },
  {
   "cell_type": "markdown",
   "metadata": {},
   "source": [
    "#### Use 10-fold cross validation to report a more robust testing performance"
   ]
  },
  {
   "cell_type": "code",
   "execution_count": null,
   "metadata": {},
   "outputs": [],
   "source": [
    "robust_mlp = MLPClassifier(random_state=42)\n",
    "scores_mlp_default = cross_val_score(robust_mlp, X, y, cv=10, verbose=1)\n",
    "print('Accuracy range for Multi-layer Perceptron: [%.4f, %.4f]; mean: %.4f; std: %.4f\\n'\n",
    "      % (scores_mlp_default.min(), scores_mlp_default.max(), scores_mlp_default.mean(), scores_mlp_default.std()))"
   ]
  },
  {
   "cell_type": "markdown",
   "metadata": {},
   "source": [
    "### Comparing the performances between classifiers"
   ]
  },
  {
   "cell_type": "code",
   "execution_count": null,
   "metadata": {},
   "outputs": [],
   "source": [
    "d2 = {'Model': ['KNN','MLP'],'Accuracy':[accuracyKNN, accuracyMLP], 'Precision': [precisionKNN,precisionMLP],\n",
    "    'Recall': [recallKNN, recallMLP], 'Balance': [bal_scoreKNN,bal_scoreMLP]}\n",
    "compare_classifiers = pd.DataFrame(data = d2)\n",
    "compare_classifiers"
   ]
  },
  {
   "cell_type": "code",
   "execution_count": null,
   "metadata": {
    "scrolled": false
   },
   "outputs": [],
   "source": [
    "fig, ax1 = plt.subplots(figsize=(20, 10))\n",
    "tidy = compare_classifiers.melt(id_vars='Model').rename(columns=str.title)\n",
    "sns.barplot(x='Model', y='Value', hue='Variable', data=tidy, ax=ax1)\n",
    "plt.title('Evaluation of KNN classifier vs MLP classifier', fontsize=18, fontweight='bold')\n",
    "sns.despine(fig)"
   ]
  },
  {
   "cell_type": "markdown",
   "metadata": {},
   "source": [
    "The plot containing the evaluation metrics for the KNN and MLP model shows that the models are equally effective at classifying recessions as reflected by the accuracy, precision, recall scores. It is worth noting however that these may suffer from undersampling as occurences of recessions are infrequent."
   ]
  },
  {
   "cell_type": "markdown",
   "metadata": {},
   "source": [
    "# Categorizing data using K-means clustering"
   ]
  },
  {
   "cell_type": "code",
   "execution_count": null,
   "metadata": {},
   "outputs": [],
   "source": [
    "# import KMeans\n",
    "from sklearn.cluster import KMeans"
   ]
  },
  {
   "cell_type": "code",
   "execution_count": null,
   "metadata": {},
   "outputs": [],
   "source": [
    "#invest_df= recession_model_df.copy()   original code\n",
    "invest_df =  unemployment_rate_model_dataset\n",
    "invest_df.head()"
   ]
  },
  {
   "cell_type": "code",
   "execution_count": null,
   "metadata": {},
   "outputs": [],
   "source": [
    "kmeans5 = KMeans(n_clusters=5)\n",
    "kmeans5.fit(invest_df)\n",
    "print(kmeans5)\n",
    "\n",
    "kmeans5.cluster_centers_"
   ]
  },
  {
   "cell_type": "code",
   "execution_count": null,
   "metadata": {},
   "outputs": [],
   "source": [
    "invest_df['label'] = kmeans5.predict(invest_df)"
   ]
  },
  {
   "cell_type": "code",
   "execution_count": null,
   "metadata": {},
   "outputs": [],
   "source": [
    "_p = sns.lmplot(x=\"Unemployment rate Australia\", y= \"Cash Rate Target\", data=invest_df, fit_reg=False, hue='label', height=8)"
   ]
  },
  {
   "cell_type": "code",
   "execution_count": null,
   "metadata": {},
   "outputs": [],
   "source": [
    "#show clusters\n",
    "invest_df[invest_df['label'] == 0].head()"
   ]
  },
  {
   "cell_type": "code",
   "execution_count": null,
   "metadata": {},
   "outputs": [],
   "source": [
    "## Group clusters by mean\n",
    "invest_df_mean=invest_df.groupby(['label']).agg('mean')\n",
    "invest_df_mean"
   ]
  },
  {
   "cell_type": "markdown",
   "metadata": {},
   "source": [
    "Since 5 clusters are used here, it is quite difficult to recognise the similarities between the members of each cluster. The elbow method will be used to find the optimal K-means."
   ]
  },
  {
   "cell_type": "markdown",
   "metadata": {},
   "source": [
    "#### Finding optimal K-means using elbow method"
   ]
  },
  {
   "cell_type": "code",
   "execution_count": null,
   "metadata": {},
   "outputs": [],
   "source": [
    "plt.figure(figsize=(20,10))\n",
    "Error =[]\n",
    "for i in range(1, 11):\n",
    "    kmeans = KMeans(n_clusters = i).fit(invest_df)\n",
    "    kmeans.fit(invest_df)\n",
    "    Error.append(kmeans.inertia_)\n",
    "import matplotlib.pyplot as plt\n",
    "plt.plot(range(1, 11), Error)\n",
    "plt.title('Elbow method')\n",
    "plt.xlabel('No of clusters')\n",
    "plt.ylabel('Error')\n",
    "plt.show()"
   ]
  },
  {
   "cell_type": "markdown",
   "metadata": {},
   "source": [
    "We can see that the \"elbow\" shape appears around 2-4 clusters, so lets change the clusters to 3 and fit again."
   ]
  },
  {
   "cell_type": "code",
   "execution_count": null,
   "metadata": {},
   "outputs": [],
   "source": [
    "kmeans3 = KMeans(n_clusters=3)\n",
    "kmeans3.fit(invest_df)\n",
    "print(kmeans3)\n",
    "\n",
    "kmeans3.cluster_centers_"
   ]
  },
  {
   "cell_type": "code",
   "execution_count": null,
   "metadata": {},
   "outputs": [],
   "source": [
    "invest_df['label'] = kmeans3.predict(invest_df)"
   ]
  },
  {
   "cell_type": "code",
   "execution_count": null,
   "metadata": {},
   "outputs": [],
   "source": [
    "_p = sns.lmplot(x=\"Unemployment rate Australia\", y= \"Cash Rate Target\", data=invest_df, fit_reg=False, hue='label', height=8)"
   ]
  },
  {
   "cell_type": "code",
   "execution_count": null,
   "metadata": {},
   "outputs": [],
   "source": [
    "plt.figure(figsize=(20,10))\n",
    "_p = sns.lmplot(x=\"Inflation\", y= \"Cash Rate Target\", data=invest_df, fit_reg=False, hue='label', height=8)\n",
    "plt.show()"
   ]
  },
  {
   "cell_type": "code",
   "execution_count": null,
   "metadata": {},
   "outputs": [],
   "source": [
    "invest_df[invest_df['label'] == 0].head()"
   ]
  },
  {
   "cell_type": "code",
   "execution_count": null,
   "metadata": {},
   "outputs": [],
   "source": [
    "## Group clusters by mean\n",
    "invest_df_mean=invest_df.groupby(['label']).agg('mean')\n",
    "invest_df_mean"
   ]
  },
  {
   "cell_type": "markdown",
   "metadata": {},
   "source": [
    "By changing the K means to 3, we have a bit more clearer understanding of each member of the clusters.\n",
    "Cluster 0 seems to have a high unemployment rate, low investment and high cash rate target. Whereas Cluster 1 has the highest total investment and lowest cash rate target. Cluster 3 seems to have the highest inflation."
   ]
  },
  {
   "cell_type": "markdown",
   "metadata": {},
   "source": [
    "### Hierarchical Clustering"
   ]
  },
  {
   "cell_type": "code",
   "execution_count": null,
   "metadata": {},
   "outputs": [],
   "source": [
    "dist = pdist(invest_df, 'euclidean')\n",
    "linkage_matrix = linkage(dist, method = 'complete')"
   ]
  },
  {
   "cell_type": "code",
   "execution_count": null,
   "metadata": {},
   "outputs": [],
   "source": [
    "plt.figure(figsize=(20,10))\n",
    "dendrogram(linkage_matrix)\n",
    "plt.show()"
   ]
  },
  {
   "cell_type": "raw",
   "metadata": {},
   "source": [
    "Looking at the results of the dendrogram, based on the height and distance between obversations  we can determine the relationships. In order to identify clusters, we can cut the dendrogram with cutree."
   ]
  },
  {
   "cell_type": "code",
   "execution_count": null,
   "metadata": {},
   "outputs": [],
   "source": [
    "labels = cut_tree(linkage_matrix, n_clusters=4)\n",
    "invest_df['label'] = labels\n",
    "invest_df"
   ]
  },
  {
   "cell_type": "code",
   "execution_count": null,
   "metadata": {},
   "outputs": [],
   "source": [
    "_p = sns.lmplot(x=\"Unemployment rate Australia\", y=\"Cash Rate Target\", data=invest_df, fit_reg=False, hue='label',height=8)"
   ]
  },
  {
   "cell_type": "markdown",
   "metadata": {},
   "source": [
    "We can see that for our dataframe, either K Means clustering or hierachical clustering can be used to find meaningful groups and members. The advantage of hierachical clustering, is that we do not need to specify the number of clusters beforehand, whereas it was needed for K-means."
   ]
  },
  {
   "cell_type": "markdown",
   "metadata": {},
   "source": [
    "# Modelling monetary policy responses to stimluate the economy"
   ]
  },
  {
   "cell_type": "markdown",
   "metadata": {},
   "source": [
    "#### Historical data 1990Q3 - 2020Q2 "
   ]
  },
  {
   "cell_type": "code",
   "execution_count": null,
   "metadata": {},
   "outputs": [],
   "source": [
    "# Dataframe to vary cash rate\n",
    "unemployment_rate_responses =  unemployment_rate_model_dataset.loc['2014Q3':].copy()\n",
    "unemployment_rate_responses.drop(['Unemployment rate Australia','label', 'Recession'], axis = 1, inplace = True)\n",
    "unemployment_rate_responses.tail()"
   ]
  },
  {
   "cell_type": "markdown",
   "metadata": {},
   "source": [
    "#### Creating dummy data 2020Q3 - 2022Q4 "
   ]
  },
  {
   "cell_type": "code",
   "execution_count": null,
   "metadata": {
    "scrolled": true
   },
   "outputs": [],
   "source": [
    "#### Creating dummy future values based off the mean of the prior values - with slight adjustments to better reflect the current movement of the economy considering that the data used ends in August.\n",
    "data = {'Date quarter': ['2020Q3', '2020Q4', '2021Q1','2021Q2','2021Q3','2021Q4','2022Q1','2022Q2','2022Q3','2022Q4'],\n",
    "        'total investment':  [55015.0, 57008.5, 56011.75, 56510.125, 56260.9375, 56385.53125, 52315.43121, 50985.23125,47315.43121, 4585.23125], \n",
    "        'Year-ended real GDP growth': [-0.00692440, 0.15974227,0.15474227,0.15985497,-0.09024365,0.13201413,0.13206102, 0.13106972, 0.131088675, 0.76534143],\n",
    "        'Inflation': [0.95, 0.325,0.6375,0.48125,0.559375,0.52031250, 0.42031250,0.36031250,0.32031250,0.26031250],\n",
    "        'Hours Worked': [5052310, 4952000,4912300,4923100,4913200,4963450,4814250,4712350,4513450,4263450],\n",
    "        'Balance on goods and services': [7129.1665, 7551.73325,7340.449875,7446.091563,7393.270719,7419.681142, 7524.681142,7119.681142,8215.311142, 8411.685142],\n",
    "        'Cash Rate Target': [0.25, 0.25,0.25,0.20,0.20,0.10,0.10,0.10,0.10,0.10]\n",
    "        }\n",
    "#Defining columns\n",
    "df = pd.DataFrame (data, columns = ['Date quarter','total investment','Year-ended real GDP growth','Inflation','Hours Worked','Balance on goods and services','Cash Rate Target'])\n",
    "\n",
    "#reseting index for future data\n",
    "df = df.set_index('Date quarter')\n",
    "\n",
    "SetDateIndexQuarter(df)"
   ]
  },
  {
   "cell_type": "markdown",
   "metadata": {},
   "source": [
    "#### Combining historical and dummy data"
   ]
  },
  {
   "cell_type": "code",
   "execution_count": null,
   "metadata": {},
   "outputs": [],
   "source": [
    "#Adding the data to the other dataset\n",
    "unemploymentRateResponses = unemployment_rate_responses.append(df)\n",
    "unemploymentRateResponses.tail()"
   ]
  },
  {
   "cell_type": "markdown",
   "metadata": {},
   "source": [
    "### Scenario 1 - Expansionary monetary policy only during periods of weak economic growth (GDP growth rate < 1%)"
   ]
  },
  {
   "cell_type": "code",
   "execution_count": null,
   "metadata": {},
   "outputs": [],
   "source": [
    "unemployment_rate_responses_1 =  unemploymentRateResponses.copy()\n",
    "for row in range(len(unemployment_rate_responses_1)):\n",
    "    if unemployment_rate_responses_1['Year-ended real GDP growth'].iloc[row] < 1 :\n",
    "        unemployment_rate_responses_1['Cash Rate Target'].iloc[row] = 0.5\n",
    "y_hat_test_linear_1 = linear_model.predict(unemployment_rate_responses_1)"
   ]
  },
  {
   "cell_type": "markdown",
   "metadata": {},
   "source": [
    "Modelling the effect on the unemployment rate when the cash rate is 0.5% during periods of weak economic growth - defined as quarters where GDP growth rate is less than 1%."
   ]
  },
  {
   "cell_type": "markdown",
   "metadata": {},
   "source": [
    "### Scenario 2 - Continuous expansionary monetary (zero cash rates all periods) "
   ]
  },
  {
   "cell_type": "code",
   "execution_count": null,
   "metadata": {},
   "outputs": [],
   "source": [
    "unemployment_rate_responses_2 =  unemploymentRateResponses.copy()\n",
    "for row in range(len(unemployment_rate_responses_2)):\n",
    "    unemployment_rate_responses_2['Cash Rate Target'].iloc[row] =  0\n",
    "y_hat_test_linear_2 = linear_model.predict(unemployment_rate_responses_2)"
   ]
  },
  {
   "cell_type": "markdown",
   "metadata": {},
   "source": [
    "Modelling the effect on the unemployment rate when the cash rate is 0% for all periods."
   ]
  },
  {
   "cell_type": "markdown",
   "metadata": {},
   "source": [
    "### Scenario 3 - Negative cash rates during periods of weak economic growth"
   ]
  },
  {
   "cell_type": "code",
   "execution_count": null,
   "metadata": {},
   "outputs": [],
   "source": [
    "unemployment_rate_responses_3 =  unemploymentRateResponses.copy()\n",
    "for row in range(len(unemployment_rate_responses_3)):\n",
    "    if unemployment_rate_responses_3['Year-ended real GDP growth'].iloc[row] < 1 :\n",
    "        unemployment_rate_responses_3['Cash Rate Target'].iloc[row] = -7.5\n",
    "y_hat_test_linear_3 = linear_model.predict(unemployment_rate_responses_3)"
   ]
  },
  {
   "cell_type": "markdown",
   "metadata": {},
   "source": [
    "Modelling the effect on the unemployment rate when the cash rate is -7.5% during periods of weak economic growth. Negative cash rates have not occured in Australia and entails the reserve bank of Australia crediting interest to the borrower. "
   ]
  },
  {
   "cell_type": "markdown",
   "metadata": {},
   "source": [
    "### Scenario 4 - Tighten monetary policy across all periods"
   ]
  },
  {
   "cell_type": "code",
   "execution_count": null,
   "metadata": {},
   "outputs": [],
   "source": [
    "unemployment_rate_responses_4 =  unemploymentRateResponses.copy()\n",
    "for row in range(len(unemployment_rate_responses_4)):\n",
    "    unemployment_rate_responses_4['Cash Rate Target'].iloc[row] = unemployment_rate_responses_4['Cash Rate Target'].iloc[row] + 7.5\n",
    "y_hat_test_linear_4 = linear_model.predict(unemployment_rate_responses_4)"
   ]
  },
  {
   "cell_type": "markdown",
   "metadata": {},
   "source": [
    "Modelling the effect on the unemployment rate when the cash rate for all periods increases by 7.5%."
   ]
  },
  {
   "cell_type": "markdown",
   "metadata": {},
   "source": [
    "## Evaluation of monetary policy responses 2014Q3 - 2020Q2"
   ]
  },
  {
   "cell_type": "code",
   "execution_count": null,
   "metadata": {},
   "outputs": [],
   "source": [
    "# Plot unemployment rate of various scenarios to compare\n",
    "fig, ax = plt.subplots(figsize=(20, 10))\n",
    "#plt.ylim(0,45)\n",
    "plt.title('Unemployment rate and monetary policy responses', fontsize=17,weight='bold')\n",
    "ax.plot(unemployment_rate_responses.loc['2014Q3':].index.to_timestamp(),unemployment_rate_model_dataset['Unemployment rate Australia'].loc['2014Q3':], color= 'b',linewidth=4)\n",
    "ax.plot(unemployment_rate_responses_1.loc['2014Q3':].index.to_timestamp(),y_hat_test_linear_1, color= 'g',linewidth=4)\n",
    "ax.plot(unemployment_rate_responses_2.loc['2014Q3':].index.to_timestamp(),y_hat_test_linear_2, color= 'r',linewidth=4)\n",
    "ax.plot(unemployment_rate_responses_3.loc['2014Q3':].index.to_timestamp(),y_hat_test_linear_3, color= 'darkorange',linewidth=4)\n",
    "ax.plot(unemployment_rate_responses_4.loc['2014Q3':].index.to_timestamp(),y_hat_test_linear_4, color= 'y',linewidth=4)\n",
    "plt.gca().legend(('Historical','Scenario - 1', 'Scenario - 2', 'Scenario - 3', 'Scenario - 4' ))\n",
    "plt.savefig('foo.png')\n",
    "plt.show()"
   ]
  },
  {
   "cell_type": "markdown",
   "metadata": {},
   "source": [
    "The plot above shows the historical unemployment rate from 2014Q3 - 2022Q4 as well the predicted unemployment rate for the various modelled monetary policy responses. The discussion in this section however will only be limited up to the 2020Q2 period.\n",
    "\n",
    "Our modelling indicates that lowering the cash rate only during periods of weak economic growth (scenario 1) has a similar impact as continous expansionary monetary policy (scenario 2) with both responses resulting in a lower unemployment rate compared to historical levels. Employing negative cash rates only during periods of weak economic growth (scenario 3) on the other hand results in less unemployment compared to the historical levels and scenario 1 & 2. Each of the modelled responses discussed however produces a significantly worse effect on unemployment relative to the historical levels during the recession in 2020Q2.\n",
    "\n",
    "Increasing the cash rate (scenario 4) produced the most robust outcome with unemployment significatly lower compared to all other scenarios, suggesting that a counter-intuitive approach to monetary policy would have been the most ideal strategy for the period between 2014Q3 - 2020Q1. The unemployment rate for 2020Q2 under this response however is slightly higher than the historical rate indicating that the RBA's actual response was the most effective at mitigating the effects of the Covid-19 recession. However the difference between the levels during the recession is small enough that it does not offset the benefits of increasing the cash rate leading up to this period."
   ]
  },
  {
   "cell_type": "markdown",
   "metadata": {},
   "source": [
    "# Conclusion"
   ]
  },
  {
   "cell_type": "markdown",
   "metadata": {},
   "source": [
    "#### Deteminining monetary policy response to stimulate the economy and drive down the unemployment rate 2020Q3 - 2022Q4"
   ]
  },
  {
   "cell_type": "markdown",
   "metadata": {},
   "source": [
    "Each of the modelled monetary policy responses indicates that there will be a recovery in the unemployment rate during the latter half of 2020, followed by largely stable levels of unemployment for a year before sharply rising again to levels exceeding the peak of the covid-19 recession. As it is evident that the RBA should go against conventional economic policy our project concludes that the recommended monetary policy response to stimulate the economy and drive down the unemployment rate is to increase the cash rate given that it produces the most robust effect on unemployment.\n",
    "\n",
    "As our project however only focused on the effect of monetary policy further studies will be required to assess the effect of monetary policy in conjunction with other stimulus measures such as government expenditure on driving down the unemployment rate."
   ]
  }
 ],
 "metadata": {
  "kernelspec": {
   "display_name": "Python 3",
   "language": "python",
   "name": "python3"
  },
  "language_info": {
   "codemirror_mode": {
    "name": "ipython",
    "version": 3
   },
   "file_extension": ".py",
   "mimetype": "text/x-python",
   "name": "python",
   "nbconvert_exporter": "python",
   "pygments_lexer": "ipython3",
   "version": "3.7.6"
  }
 },
 "nbformat": 4,
 "nbformat_minor": 4
}
